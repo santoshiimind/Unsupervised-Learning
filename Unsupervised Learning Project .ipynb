{
 "cells": [
  {
   "cell_type": "markdown",
   "id": "aabaab60",
   "metadata": {},
   "source": [
    "## Unsupervised Learning Project   :  Santosh Kumar\n",
    "\n",
    "## Part A - 40 Marks"
   ]
  },
  {
   "cell_type": "markdown",
   "id": "836fc925",
   "metadata": {},
   "source": [
    "### DOMAIN : Business\n",
    "    \n",
    "### • CASE STUDY : Product Segmentation Case Study\n",
    "\n",
    "### • CONTEXT : \n",
    "When you think of sneakers for a trip, the importance of good footwear cannot be discarded, and the obvious brands that come to mind are Adidas and Nike. Adidas vs Nike is a constant debate as the two giants in\n",
    "the apparel market, with a large market cap and market share, battle it out to come on top. As a newly hired Data\n",
    "Scientist in a market research company, you have been given the task of extracting insights from the data of men's\n",
    "and women's shoes, and grouping products together to identify similarities and differences between the product\n",
    "range of these renowned brands\n",
    "\n",
    "### • DATA DESCRIPTION :\n",
    "The dataset consists of 3268 products from Nike and Adidas with features of information including their ratings,\n",
    "discount, sales price, listed price, product name, and the number of reviews.\n",
    "\n",
    "• Product Name: Name of the product\n",
    "\n",
    "• Product ID: ID of the product\n",
    "\n",
    "• Listing Price: Listed price of the product\n",
    "\n",
    "• Sale Price: Sale price of the product\n",
    "\n",
    "• Discount: Percentage of discount on the product\n",
    "\n",
    "• Brand: Brand of the product\n",
    "\n",
    "• Rating: Rating of the product\n",
    "\n",
    "• Reviews: Number of reviews for the product\n",
    "\n",
    "### • PROJECT OBJECTIVE:\n",
    "    \n",
    "To perform an exploratory data analysis and cluster the products based on various factors\n",
    "\n",
    "### • STEPS AND TASKS [40 Marks]:\n",
    "\n",
    "#### 1. Data Understanding:\n",
    "\n",
    "a. Read the Data set “data_add_nik.csv” and print the shape of the dataset. [2 marks]\n",
    "\n",
    "b. Check if there is any redundant column in the dataset and drop them. [1 mark]\n",
    "\n",
    "c. Check if there are any duplicate records in the dataset. If yes, drop them. [1 mark]\n",
    "\n",
    "d. Check the 5 points summary of the whole data and share your observations. [1 mark]\n",
    "\n",
    "#### 2. Exploratory Data Analysis:\n",
    "\n",
    "a. Check how many products have Listing_price ‘0’. Check it’s 5 points summary and share your insights.\n",
    "[2 marks]\n",
    "\n",
    "b. Records having Listing_price ‘0’, replace them with Sale_Price of that record. [2 marks]\n",
    "\n",
    "c. Check and print feature-wise percentage of missing values present in the data and impute with the best\n",
    "suitable approach. [2 Marks]\n",
    "\n",
    "d. Perform univariate analysis on the data and share your insights. [ 2 marks ]\n",
    "\n",
    "e. Perform bivariate and multivariate analysis and share your insights. [3 marks ]\n",
    "\n",
    "\n",
    "#### 3. Data Preprocessing :\n",
    "\n",
    "a. Scale all the numeric variables using suitable technique. [2 marks]\n",
    "\n",
    "#### 4. K-Means Clustering :\n",
    "\n",
    "a. Apply K-Means clustering for 2 to 10 clusters. [3 Marks]\n",
    "\n",
    "b. Plot a visual and find elbow point. [2 Marks]\n",
    "\n",
    "c. Considering the above visual, mention which are the optimal clusters. [1 Mark]\n",
    "\n",
    "d. Calculate silhouette scores of all K clusters 2 to 10. [2 Marks]\n",
    "\n",
    "e. Considering 4.c and 4.d, what is the optimal value of K? [1 Mark]\n",
    "\n",
    "f. Train a K-means clustering model once again on the optimal number of clusters. [2 Marks]\n",
    "\n",
    "g. Add K-means cluster labels to the original data. [3 Marks]\n",
    "\n",
    "h. Do cluster profiling and display. [3 Marks]\n",
    "\n",
    "i. Share your insights on the clusters which are built. Here try to explain what each cluster is saying.\n",
    "[3 Marks]\n",
    "\n",
    "j. Considering the cluster profiles, give any 2-business recommendation which will help the business.\n",
    "[2 Marks]"
   ]
  },
  {
   "cell_type": "markdown",
   "id": "20c4e94a",
   "metadata": {},
   "source": [
    "## 1. Data Understanding:\n"
   ]
  },
  {
   "cell_type": "code",
   "execution_count": 2,
   "id": "9682ce52",
   "metadata": {},
   "outputs": [
    {
     "name": "stdout",
     "output_type": "stream",
     "text": [
      "Shape of the dataset: (3268, 8)\n"
     ]
    }
   ],
   "source": [
    "## a. Read the Data set “data_add_nik.csv” and print the shape of the dataset. [2 marks]\n",
    "\n",
    "import pandas as pd\n",
    "\n",
    "data = pd.read_csv(\"data_add_nik.csv\")\n",
    "print(\"Shape of the dataset:\", data.shape)\n"
   ]
  },
  {
   "cell_type": "code",
   "execution_count": 3,
   "id": "26130c97",
   "metadata": {},
   "outputs": [],
   "source": [
    "## b. Check for redundant columns and drop them if any.\n",
    "\n",
    "# Check for redundant columns\n",
    "redundant_cols = []  # Assuming no redundant columns initially\n",
    "\n",
    "# Drop redundant columns\n",
    "data.drop(redundant_cols, axis=1, inplace=True)\n"
   ]
  },
  {
   "cell_type": "code",
   "execution_count": 5,
   "id": "76084d49",
   "metadata": {},
   "outputs": [],
   "source": [
    "## c. Check for duplicate records and drop them.\n",
    "\n",
    "# Check for duplicate records\n",
    "duplicate_rows = data.duplicated()\n",
    "\n",
    "# Drop duplicate rows\n",
    "data = data[~duplicate_rows]\n"
   ]
  },
  {
   "cell_type": "code",
   "execution_count": 7,
   "id": "3d3fbaa1",
   "metadata": {},
   "outputs": [
    {
     "name": "stdout",
     "output_type": "stream",
     "text": [
      "                                    Product Name  Product ID  Listing Price  \\\n",
      "count                                       3180        3180    3180.000000   \n",
      "unique                                      1531        3179            NaN   \n",
      "top     Women's adidas Originals Sambarose Shoes  CI2668-004            NaN   \n",
      "freq                                          16           2            NaN   \n",
      "mean                                         NaN         NaN    6992.707547   \n",
      "std                                          NaN         NaN    4677.133304   \n",
      "min                                          NaN         NaN       0.000000   \n",
      "25%                                          NaN         NaN    4599.000000   \n",
      "50%                                          NaN         NaN    5999.000000   \n",
      "75%                                          NaN         NaN    8999.000000   \n",
      "max                                          NaN         NaN   29999.000000   \n",
      "\n",
      "          Sale Price     Discount              Brand       Rating      Reviews  \n",
      "count    3180.000000  3180.000000               3180  3180.000000  3180.000000  \n",
      "unique           NaN          NaN                  5          NaN          NaN  \n",
      "top              NaN          NaN  Adidas CORE / NEO          NaN          NaN  \n",
      "freq             NaN          NaN               1111          NaN          NaN  \n",
      "mean     6027.742767    27.619497                NaN     3.266635    41.529560  \n",
      "std      4192.481308    22.492385                NaN     1.393592    31.373989  \n",
      "min       449.000000     0.000000                NaN     0.000000     0.000000  \n",
      "25%      2999.000000     0.000000                NaN     2.600000    12.000000  \n",
      "50%      4599.000000    40.000000                NaN     3.500000    39.000000  \n",
      "75%      7995.000000    50.000000                NaN     4.400000    69.000000  \n",
      "max     36500.000000    60.000000                NaN     5.000000   223.000000  \n"
     ]
    }
   ],
   "source": [
    "## d. Print the 5-point summary of the whole data.\n",
    "\n",
    "# 5-point summary\n",
    "summary = data.describe(include='all')\n",
    "print(summary)\n"
   ]
  },
  {
   "cell_type": "markdown",
   "id": "1d09c5d8",
   "metadata": {},
   "source": [
    "## 2. Exploratory Data Analysis:"
   ]
  },
  {
   "cell_type": "code",
   "execution_count": 8,
   "id": "0ffeaa1a",
   "metadata": {},
   "outputs": [
    {
     "name": "stdout",
     "output_type": "stream",
     "text": [
      "Number of products with Listing_price '0': 362\n",
      "       Listing Price    Sale Price  Discount      Rating     Reviews\n",
      "count          362.0    362.000000     362.0  362.000000  362.000000\n",
      "mean             0.0  11204.682320       0.0    2.678177    7.803867\n",
      "std              0.0   4538.187946       0.0    2.187662   19.140614\n",
      "min              0.0   1595.000000       0.0    0.000000    0.000000\n",
      "25%              0.0   7995.000000       0.0    0.000000    0.000000\n",
      "50%              0.0  10995.000000       0.0    3.800000    1.000000\n",
      "75%              0.0  13995.000000       0.0    4.700000    6.000000\n",
      "max              0.0  36500.000000       0.0    5.000000  223.000000\n"
     ]
    }
   ],
   "source": [
    "## a. Check products with a Listing_price of '0' and provide insights.\n",
    "\n",
    "# Products with Listing_price '0'\n",
    "zero_list_price = data[data['Listing Price'] == 0]\n",
    "print(\"Number of products with Listing_price '0':\", len(zero_list_price))\n",
    "print(zero_list_price.describe())\n"
   ]
  },
  {
   "cell_type": "code",
   "execution_count": 9,
   "id": "bcaf8ae3",
   "metadata": {},
   "outputs": [],
   "source": [
    "## b. Replace Listing_price '0' with Sale_price.\n",
    "data.loc[data['Listing Price'] == 0, 'Listing Price'] = data.loc[data['Listing Price'] == 0, 'Sale Price']\n"
   ]
  },
  {
   "cell_type": "code",
   "execution_count": 10,
   "id": "e86fd13c",
   "metadata": {},
   "outputs": [
    {
     "name": "stdout",
     "output_type": "stream",
     "text": [
      "Feature-wise percentage of missing values:\n",
      " Product Name     0.0\n",
      "Product ID       0.0\n",
      "Listing Price    0.0\n",
      "Sale Price       0.0\n",
      "Discount         0.0\n",
      "Brand            0.0\n",
      "Rating           0.0\n",
      "Reviews          0.0\n",
      "dtype: float64\n"
     ]
    }
   ],
   "source": [
    "## c. Check feature-wise percentage of missing values and impute.\n",
    "\n",
    "# Feature-wise percentage of missing values\n",
    "missing_percentage = (data.isnull().sum() / len(data)) * 100\n",
    "print(\"Feature-wise percentage of missing values:\\n\", missing_percentage)\n",
    "\n",
    "# Impute missing values\n",
    "# Choose appropriate method based on the type of feature and extent of missingness\n"
   ]
  },
  {
   "cell_type": "code",
   "execution_count": 26,
   "id": "5d398705",
   "metadata": {},
   "outputs": [
    {
     "ename": "KeyError",
     "evalue": "'Rating'",
     "output_type": "error",
     "traceback": [
      "\u001b[1;31m---------------------------------------------------------------------------\u001b[0m",
      "\u001b[1;31mKeyError\u001b[0m                                  Traceback (most recent call last)",
      "File \u001b[1;32mC:\\Anaconda\\Lib\\site-packages\\pandas\\core\\indexes\\base.py:3802\u001b[0m, in \u001b[0;36mIndex.get_loc\u001b[1;34m(self, key, method, tolerance)\u001b[0m\n\u001b[0;32m   3801\u001b[0m \u001b[38;5;28;01mtry\u001b[39;00m:\n\u001b[1;32m-> 3802\u001b[0m     \u001b[38;5;28;01mreturn\u001b[39;00m \u001b[38;5;28mself\u001b[39m\u001b[38;5;241m.\u001b[39m_engine\u001b[38;5;241m.\u001b[39mget_loc(casted_key)\n\u001b[0;32m   3803\u001b[0m \u001b[38;5;28;01mexcept\u001b[39;00m \u001b[38;5;167;01mKeyError\u001b[39;00m \u001b[38;5;28;01mas\u001b[39;00m err:\n",
      "File \u001b[1;32mC:\\Anaconda\\Lib\\site-packages\\pandas\\_libs\\index.pyx:138\u001b[0m, in \u001b[0;36mpandas._libs.index.IndexEngine.get_loc\u001b[1;34m()\u001b[0m\n",
      "File \u001b[1;32mC:\\Anaconda\\Lib\\site-packages\\pandas\\_libs\\index.pyx:165\u001b[0m, in \u001b[0;36mpandas._libs.index.IndexEngine.get_loc\u001b[1;34m()\u001b[0m\n",
      "File \u001b[1;32mpandas\\_libs\\hashtable_class_helper.pxi:5745\u001b[0m, in \u001b[0;36mpandas._libs.hashtable.PyObjectHashTable.get_item\u001b[1;34m()\u001b[0m\n",
      "File \u001b[1;32mpandas\\_libs\\hashtable_class_helper.pxi:5753\u001b[0m, in \u001b[0;36mpandas._libs.hashtable.PyObjectHashTable.get_item\u001b[1;34m()\u001b[0m\n",
      "\u001b[1;31mKeyError\u001b[0m: 'Rating'",
      "\nThe above exception was the direct cause of the following exception:\n",
      "\u001b[1;31mKeyError\u001b[0m                                  Traceback (most recent call last)",
      "Cell \u001b[1;32mIn[26], line 5\u001b[0m\n\u001b[0;32m      1\u001b[0m \u001b[38;5;66;03m## d. Perform univariate analysis.\u001b[39;00m\n\u001b[0;32m      2\u001b[0m \u001b[38;5;66;03m# Univariate analysis (e.g., histograms, box plots, etc.)\u001b[39;00m\n\u001b[0;32m      3\u001b[0m \u001b[38;5;28;01mimport\u001b[39;00m \u001b[38;5;21;01mmatplotlib\u001b[39;00m\u001b[38;5;21;01m.\u001b[39;00m\u001b[38;5;21;01mpyplot\u001b[39;00m \u001b[38;5;28;01mas\u001b[39;00m \u001b[38;5;21;01mplt\u001b[39;00m\n\u001b[1;32m----> 5\u001b[0m plt\u001b[38;5;241m.\u001b[39mhist(data[\u001b[38;5;124m'\u001b[39m\u001b[38;5;124mRating\u001b[39m\u001b[38;5;124m'\u001b[39m], bins\u001b[38;5;241m=\u001b[39m\u001b[38;5;241m10\u001b[39m)\n\u001b[0;32m      6\u001b[0m plt\u001b[38;5;241m.\u001b[39mxlabel(\u001b[38;5;124m'\u001b[39m\u001b[38;5;124mRating\u001b[39m\u001b[38;5;124m'\u001b[39m)\n\u001b[0;32m      7\u001b[0m plt\u001b[38;5;241m.\u001b[39mylabel(\u001b[38;5;124m'\u001b[39m\u001b[38;5;124mFrequency\u001b[39m\u001b[38;5;124m'\u001b[39m)\n",
      "File \u001b[1;32mC:\\Anaconda\\Lib\\site-packages\\pandas\\core\\frame.py:3807\u001b[0m, in \u001b[0;36mDataFrame.__getitem__\u001b[1;34m(self, key)\u001b[0m\n\u001b[0;32m   3805\u001b[0m \u001b[38;5;28;01mif\u001b[39;00m \u001b[38;5;28mself\u001b[39m\u001b[38;5;241m.\u001b[39mcolumns\u001b[38;5;241m.\u001b[39mnlevels \u001b[38;5;241m>\u001b[39m \u001b[38;5;241m1\u001b[39m:\n\u001b[0;32m   3806\u001b[0m     \u001b[38;5;28;01mreturn\u001b[39;00m \u001b[38;5;28mself\u001b[39m\u001b[38;5;241m.\u001b[39m_getitem_multilevel(key)\n\u001b[1;32m-> 3807\u001b[0m indexer \u001b[38;5;241m=\u001b[39m \u001b[38;5;28mself\u001b[39m\u001b[38;5;241m.\u001b[39mcolumns\u001b[38;5;241m.\u001b[39mget_loc(key)\n\u001b[0;32m   3808\u001b[0m \u001b[38;5;28;01mif\u001b[39;00m is_integer(indexer):\n\u001b[0;32m   3809\u001b[0m     indexer \u001b[38;5;241m=\u001b[39m [indexer]\n",
      "File \u001b[1;32mC:\\Anaconda\\Lib\\site-packages\\pandas\\core\\indexes\\base.py:3804\u001b[0m, in \u001b[0;36mIndex.get_loc\u001b[1;34m(self, key, method, tolerance)\u001b[0m\n\u001b[0;32m   3802\u001b[0m     \u001b[38;5;28;01mreturn\u001b[39;00m \u001b[38;5;28mself\u001b[39m\u001b[38;5;241m.\u001b[39m_engine\u001b[38;5;241m.\u001b[39mget_loc(casted_key)\n\u001b[0;32m   3803\u001b[0m \u001b[38;5;28;01mexcept\u001b[39;00m \u001b[38;5;167;01mKeyError\u001b[39;00m \u001b[38;5;28;01mas\u001b[39;00m err:\n\u001b[1;32m-> 3804\u001b[0m     \u001b[38;5;28;01mraise\u001b[39;00m \u001b[38;5;167;01mKeyError\u001b[39;00m(key) \u001b[38;5;28;01mfrom\u001b[39;00m \u001b[38;5;21;01merr\u001b[39;00m\n\u001b[0;32m   3805\u001b[0m \u001b[38;5;28;01mexcept\u001b[39;00m \u001b[38;5;167;01mTypeError\u001b[39;00m:\n\u001b[0;32m   3806\u001b[0m     \u001b[38;5;66;03m# If we have a listlike key, _check_indexing_error will raise\u001b[39;00m\n\u001b[0;32m   3807\u001b[0m     \u001b[38;5;66;03m#  InvalidIndexError. Otherwise we fall through and re-raise\u001b[39;00m\n\u001b[0;32m   3808\u001b[0m     \u001b[38;5;66;03m#  the TypeError.\u001b[39;00m\n\u001b[0;32m   3809\u001b[0m     \u001b[38;5;28mself\u001b[39m\u001b[38;5;241m.\u001b[39m_check_indexing_error(key)\n",
      "\u001b[1;31mKeyError\u001b[0m: 'Rating'"
     ]
    }
   ],
   "source": [
    "## d. Perform univariate analysis.\n",
    "# Univariate analysis (e.g., histograms, box plots, etc.)\n",
    "import matplotlib.pyplot as plt\n",
    "\n",
    "plt.hist(data['Rating'], bins=10)\n",
    "plt.xlabel('Rating')\n",
    "plt.ylabel('Frequency')\n",
    "plt.title('Distribution of Ratings')\n",
    "plt.show()\n",
    "\n",
    "\n"
   ]
  },
  {
   "cell_type": "code",
   "execution_count": 27,
   "id": "8ce9850a",
   "metadata": {},
   "outputs": [
    {
     "ename": "ValueError",
     "evalue": "Could not interpret value `Rating` for parameter `x`",
     "output_type": "error",
     "traceback": [
      "\u001b[1;31m---------------------------------------------------------------------------\u001b[0m",
      "\u001b[1;31mValueError\u001b[0m                                Traceback (most recent call last)",
      "Cell \u001b[1;32mIn[27], line 6\u001b[0m\n\u001b[0;32m      1\u001b[0m \u001b[38;5;66;03m## e. Perform bivariate and multivariate analysis.\u001b[39;00m\n\u001b[0;32m      2\u001b[0m \n\u001b[0;32m      3\u001b[0m \u001b[38;5;66;03m# Bivariate and multivariate analysis (e.g., scatter plots, pair plots, etc.)\u001b[39;00m\n\u001b[0;32m      4\u001b[0m \u001b[38;5;28;01mimport\u001b[39;00m \u001b[38;5;21;01mseaborn\u001b[39;00m \u001b[38;5;28;01mas\u001b[39;00m \u001b[38;5;21;01msns\u001b[39;00m\n\u001b[1;32m----> 6\u001b[0m sns\u001b[38;5;241m.\u001b[39mscatterplot(x\u001b[38;5;241m=\u001b[39m\u001b[38;5;124m'\u001b[39m\u001b[38;5;124mRating\u001b[39m\u001b[38;5;124m'\u001b[39m, y\u001b[38;5;241m=\u001b[39m\u001b[38;5;124m'\u001b[39m\u001b[38;5;124mSales Price\u001b[39m\u001b[38;5;124m'\u001b[39m, data\u001b[38;5;241m=\u001b[39mdata, hue\u001b[38;5;241m=\u001b[39m\u001b[38;5;124m'\u001b[39m\u001b[38;5;124mBrand\u001b[39m\u001b[38;5;124m'\u001b[39m)\n\u001b[0;32m      7\u001b[0m plt\u001b[38;5;241m.\u001b[39mxlabel(\u001b[38;5;124m'\u001b[39m\u001b[38;5;124mRating\u001b[39m\u001b[38;5;124m'\u001b[39m)\n\u001b[0;32m      8\u001b[0m plt\u001b[38;5;241m.\u001b[39mylabel(\u001b[38;5;124m'\u001b[39m\u001b[38;5;124mSales Price\u001b[39m\u001b[38;5;124m'\u001b[39m)\n",
      "File \u001b[1;32mC:\\Anaconda\\Lib\\site-packages\\seaborn\\relational.py:742\u001b[0m, in \u001b[0;36mscatterplot\u001b[1;34m(data, x, y, hue, size, style, palette, hue_order, hue_norm, sizes, size_order, size_norm, markers, style_order, legend, ax, **kwargs)\u001b[0m\n\u001b[0;32m    732\u001b[0m \u001b[38;5;28;01mdef\u001b[39;00m \u001b[38;5;21mscatterplot\u001b[39m(\n\u001b[0;32m    733\u001b[0m     data\u001b[38;5;241m=\u001b[39m\u001b[38;5;28;01mNone\u001b[39;00m, \u001b[38;5;241m*\u001b[39m,\n\u001b[0;32m    734\u001b[0m     x\u001b[38;5;241m=\u001b[39m\u001b[38;5;28;01mNone\u001b[39;00m, y\u001b[38;5;241m=\u001b[39m\u001b[38;5;28;01mNone\u001b[39;00m, hue\u001b[38;5;241m=\u001b[39m\u001b[38;5;28;01mNone\u001b[39;00m, size\u001b[38;5;241m=\u001b[39m\u001b[38;5;28;01mNone\u001b[39;00m, style\u001b[38;5;241m=\u001b[39m\u001b[38;5;28;01mNone\u001b[39;00m,\n\u001b[1;32m   (...)\u001b[0m\n\u001b[0;32m    738\u001b[0m     \u001b[38;5;241m*\u001b[39m\u001b[38;5;241m*\u001b[39mkwargs\n\u001b[0;32m    739\u001b[0m ):\n\u001b[0;32m    741\u001b[0m     variables \u001b[38;5;241m=\u001b[39m _ScatterPlotter\u001b[38;5;241m.\u001b[39mget_semantics(\u001b[38;5;28mlocals\u001b[39m())\n\u001b[1;32m--> 742\u001b[0m     p \u001b[38;5;241m=\u001b[39m _ScatterPlotter(data\u001b[38;5;241m=\u001b[39mdata, variables\u001b[38;5;241m=\u001b[39mvariables, legend\u001b[38;5;241m=\u001b[39mlegend)\n\u001b[0;32m    744\u001b[0m     p\u001b[38;5;241m.\u001b[39mmap_hue(palette\u001b[38;5;241m=\u001b[39mpalette, order\u001b[38;5;241m=\u001b[39mhue_order, norm\u001b[38;5;241m=\u001b[39mhue_norm)\n\u001b[0;32m    745\u001b[0m     p\u001b[38;5;241m.\u001b[39mmap_size(sizes\u001b[38;5;241m=\u001b[39msizes, order\u001b[38;5;241m=\u001b[39msize_order, norm\u001b[38;5;241m=\u001b[39msize_norm)\n",
      "File \u001b[1;32mC:\\Anaconda\\Lib\\site-packages\\seaborn\\relational.py:538\u001b[0m, in \u001b[0;36m_ScatterPlotter.__init__\u001b[1;34m(self, data, variables, legend)\u001b[0m\n\u001b[0;32m    529\u001b[0m \u001b[38;5;28;01mdef\u001b[39;00m \u001b[38;5;21m__init__\u001b[39m(\u001b[38;5;28mself\u001b[39m, \u001b[38;5;241m*\u001b[39m, data\u001b[38;5;241m=\u001b[39m\u001b[38;5;28;01mNone\u001b[39;00m, variables\u001b[38;5;241m=\u001b[39m{}, legend\u001b[38;5;241m=\u001b[39m\u001b[38;5;28;01mNone\u001b[39;00m):\n\u001b[0;32m    530\u001b[0m \n\u001b[0;32m    531\u001b[0m     \u001b[38;5;66;03m# TODO this is messy, we want the mapping to be agnostic about\u001b[39;00m\n\u001b[0;32m    532\u001b[0m     \u001b[38;5;66;03m# the kind of plot to draw, but for the time being we need to set\u001b[39;00m\n\u001b[0;32m    533\u001b[0m     \u001b[38;5;66;03m# this information so the SizeMapping can use it\u001b[39;00m\n\u001b[0;32m    534\u001b[0m     \u001b[38;5;28mself\u001b[39m\u001b[38;5;241m.\u001b[39m_default_size_range \u001b[38;5;241m=\u001b[39m (\n\u001b[0;32m    535\u001b[0m         np\u001b[38;5;241m.\u001b[39mr_[\u001b[38;5;241m.5\u001b[39m, \u001b[38;5;241m2\u001b[39m] \u001b[38;5;241m*\u001b[39m np\u001b[38;5;241m.\u001b[39msquare(mpl\u001b[38;5;241m.\u001b[39mrcParams[\u001b[38;5;124m\"\u001b[39m\u001b[38;5;124mlines.markersize\u001b[39m\u001b[38;5;124m\"\u001b[39m])\n\u001b[0;32m    536\u001b[0m     )\n\u001b[1;32m--> 538\u001b[0m     \u001b[38;5;28msuper\u001b[39m()\u001b[38;5;241m.\u001b[39m\u001b[38;5;21m__init__\u001b[39m(data\u001b[38;5;241m=\u001b[39mdata, variables\u001b[38;5;241m=\u001b[39mvariables)\n\u001b[0;32m    540\u001b[0m     \u001b[38;5;28mself\u001b[39m\u001b[38;5;241m.\u001b[39mlegend \u001b[38;5;241m=\u001b[39m legend\n",
      "File \u001b[1;32mC:\\Anaconda\\Lib\\site-packages\\seaborn\\_oldcore.py:640\u001b[0m, in \u001b[0;36mVectorPlotter.__init__\u001b[1;34m(self, data, variables)\u001b[0m\n\u001b[0;32m    635\u001b[0m \u001b[38;5;66;03m# var_ordered is relevant only for categorical axis variables, and may\u001b[39;00m\n\u001b[0;32m    636\u001b[0m \u001b[38;5;66;03m# be better handled by an internal axis information object that tracks\u001b[39;00m\n\u001b[0;32m    637\u001b[0m \u001b[38;5;66;03m# such information and is set up by the scale_* methods. The analogous\u001b[39;00m\n\u001b[0;32m    638\u001b[0m \u001b[38;5;66;03m# information for numeric axes would be information about log scales.\u001b[39;00m\n\u001b[0;32m    639\u001b[0m \u001b[38;5;28mself\u001b[39m\u001b[38;5;241m.\u001b[39m_var_ordered \u001b[38;5;241m=\u001b[39m {\u001b[38;5;124m\"\u001b[39m\u001b[38;5;124mx\u001b[39m\u001b[38;5;124m\"\u001b[39m: \u001b[38;5;28;01mFalse\u001b[39;00m, \u001b[38;5;124m\"\u001b[39m\u001b[38;5;124my\u001b[39m\u001b[38;5;124m\"\u001b[39m: \u001b[38;5;28;01mFalse\u001b[39;00m}  \u001b[38;5;66;03m# alt., used DefaultDict\u001b[39;00m\n\u001b[1;32m--> 640\u001b[0m \u001b[38;5;28mself\u001b[39m\u001b[38;5;241m.\u001b[39massign_variables(data, variables)\n\u001b[0;32m    642\u001b[0m \u001b[38;5;28;01mfor\u001b[39;00m var, \u001b[38;5;28mcls\u001b[39m \u001b[38;5;129;01min\u001b[39;00m \u001b[38;5;28mself\u001b[39m\u001b[38;5;241m.\u001b[39m_semantic_mappings\u001b[38;5;241m.\u001b[39mitems():\n\u001b[0;32m    643\u001b[0m \n\u001b[0;32m    644\u001b[0m     \u001b[38;5;66;03m# Create the mapping function\u001b[39;00m\n\u001b[0;32m    645\u001b[0m     map_func \u001b[38;5;241m=\u001b[39m partial(\u001b[38;5;28mcls\u001b[39m\u001b[38;5;241m.\u001b[39mmap, plotter\u001b[38;5;241m=\u001b[39m\u001b[38;5;28mself\u001b[39m)\n",
      "File \u001b[1;32mC:\\Anaconda\\Lib\\site-packages\\seaborn\\_oldcore.py:701\u001b[0m, in \u001b[0;36mVectorPlotter.assign_variables\u001b[1;34m(self, data, variables)\u001b[0m\n\u001b[0;32m    699\u001b[0m \u001b[38;5;28;01melse\u001b[39;00m:\n\u001b[0;32m    700\u001b[0m     \u001b[38;5;28mself\u001b[39m\u001b[38;5;241m.\u001b[39minput_format \u001b[38;5;241m=\u001b[39m \u001b[38;5;124m\"\u001b[39m\u001b[38;5;124mlong\u001b[39m\u001b[38;5;124m\"\u001b[39m\n\u001b[1;32m--> 701\u001b[0m     plot_data, variables \u001b[38;5;241m=\u001b[39m \u001b[38;5;28mself\u001b[39m\u001b[38;5;241m.\u001b[39m_assign_variables_longform(\n\u001b[0;32m    702\u001b[0m         data, \u001b[38;5;241m*\u001b[39m\u001b[38;5;241m*\u001b[39mvariables,\n\u001b[0;32m    703\u001b[0m     )\n\u001b[0;32m    705\u001b[0m \u001b[38;5;28mself\u001b[39m\u001b[38;5;241m.\u001b[39mplot_data \u001b[38;5;241m=\u001b[39m plot_data\n\u001b[0;32m    706\u001b[0m \u001b[38;5;28mself\u001b[39m\u001b[38;5;241m.\u001b[39mvariables \u001b[38;5;241m=\u001b[39m variables\n",
      "File \u001b[1;32mC:\\Anaconda\\Lib\\site-packages\\seaborn\\_oldcore.py:938\u001b[0m, in \u001b[0;36mVectorPlotter._assign_variables_longform\u001b[1;34m(self, data, **kwargs)\u001b[0m\n\u001b[0;32m    933\u001b[0m \u001b[38;5;28;01melif\u001b[39;00m \u001b[38;5;28misinstance\u001b[39m(val, (\u001b[38;5;28mstr\u001b[39m, \u001b[38;5;28mbytes\u001b[39m)):\n\u001b[0;32m    934\u001b[0m \n\u001b[0;32m    935\u001b[0m     \u001b[38;5;66;03m# This looks like a column name but we don't know what it means!\u001b[39;00m\n\u001b[0;32m    937\u001b[0m     err \u001b[38;5;241m=\u001b[39m \u001b[38;5;124mf\u001b[39m\u001b[38;5;124m\"\u001b[39m\u001b[38;5;124mCould not interpret value `\u001b[39m\u001b[38;5;132;01m{\u001b[39;00mval\u001b[38;5;132;01m}\u001b[39;00m\u001b[38;5;124m` for parameter `\u001b[39m\u001b[38;5;132;01m{\u001b[39;00mkey\u001b[38;5;132;01m}\u001b[39;00m\u001b[38;5;124m`\u001b[39m\u001b[38;5;124m\"\u001b[39m\n\u001b[1;32m--> 938\u001b[0m     \u001b[38;5;28;01mraise\u001b[39;00m \u001b[38;5;167;01mValueError\u001b[39;00m(err)\n\u001b[0;32m    940\u001b[0m \u001b[38;5;28;01melse\u001b[39;00m:\n\u001b[0;32m    941\u001b[0m \n\u001b[0;32m    942\u001b[0m     \u001b[38;5;66;03m# Otherwise, assume the value is itself data\u001b[39;00m\n\u001b[0;32m    943\u001b[0m \n\u001b[0;32m    944\u001b[0m     \u001b[38;5;66;03m# Raise when data object is present and a vector can't matched\u001b[39;00m\n\u001b[0;32m    945\u001b[0m     \u001b[38;5;28;01mif\u001b[39;00m \u001b[38;5;28misinstance\u001b[39m(data, pd\u001b[38;5;241m.\u001b[39mDataFrame) \u001b[38;5;129;01mand\u001b[39;00m \u001b[38;5;129;01mnot\u001b[39;00m \u001b[38;5;28misinstance\u001b[39m(val, pd\u001b[38;5;241m.\u001b[39mSeries):\n",
      "\u001b[1;31mValueError\u001b[0m: Could not interpret value `Rating` for parameter `x`"
     ]
    }
   ],
   "source": [
    "## e. Perform bivariate and multivariate analysis.\n",
    "\n",
    "# Bivariate and multivariate analysis (e.g., scatter plots, pair plots, etc.)\n",
    "import seaborn as sns\n",
    "\n",
    "sns.scatterplot(x='Rating', y='Sales Price', data=data, hue='Brand')\n",
    "plt.xlabel('Rating')\n",
    "plt.ylabel('Sales Price')\n",
    "plt.title('Rating vs Sales Price')\n",
    "plt.show()\n",
    "\n",
    "\n"
   ]
  },
  {
   "cell_type": "markdown",
   "id": "78d0b309",
   "metadata": {},
   "source": [
    "## 3. Data Preprocessing:"
   ]
  },
  {
   "cell_type": "code",
   "execution_count": 12,
   "id": "51b2f179",
   "metadata": {},
   "outputs": [],
   "source": [
    "## a. Scale all numeric variables using a suitable technique.\n",
    "\n",
    "\n",
    "from sklearn.preprocessing import StandardScaler\n",
    "\n",
    "scaler = StandardScaler()\n",
    "data_scaled = scaler.fit_transform(data.select_dtypes(include='number'))\n",
    "data_scaled = pd.DataFrame(data_scaled, columns=data.select_dtypes(include='number').columns)\n"
   ]
  },
  {
   "cell_type": "markdown",
   "id": "05c4828d",
   "metadata": {},
   "source": [
    "## 4. K-Means Clustering:"
   ]
  },
  {
   "cell_type": "code",
   "execution_count": 13,
   "id": "ca7c4c2d",
   "metadata": {},
   "outputs": [
    {
     "name": "stderr",
     "output_type": "stream",
     "text": [
      "C:\\Anaconda\\Lib\\site-packages\\sklearn\\cluster\\_kmeans.py:1412: FutureWarning: The default value of `n_init` will change from 10 to 'auto' in 1.4. Set the value of `n_init` explicitly to suppress the warning\n",
      "  super()._check_params_vs_input(X, default_n_init=10)\n",
      "C:\\Anaconda\\Lib\\site-packages\\sklearn\\cluster\\_kmeans.py:1412: FutureWarning: The default value of `n_init` will change from 10 to 'auto' in 1.4. Set the value of `n_init` explicitly to suppress the warning\n",
      "  super()._check_params_vs_input(X, default_n_init=10)\n",
      "C:\\Anaconda\\Lib\\site-packages\\sklearn\\cluster\\_kmeans.py:1412: FutureWarning: The default value of `n_init` will change from 10 to 'auto' in 1.4. Set the value of `n_init` explicitly to suppress the warning\n",
      "  super()._check_params_vs_input(X, default_n_init=10)\n",
      "C:\\Anaconda\\Lib\\site-packages\\sklearn\\cluster\\_kmeans.py:1412: FutureWarning: The default value of `n_init` will change from 10 to 'auto' in 1.4. Set the value of `n_init` explicitly to suppress the warning\n",
      "  super()._check_params_vs_input(X, default_n_init=10)\n",
      "C:\\Anaconda\\Lib\\site-packages\\sklearn\\cluster\\_kmeans.py:1412: FutureWarning: The default value of `n_init` will change from 10 to 'auto' in 1.4. Set the value of `n_init` explicitly to suppress the warning\n",
      "  super()._check_params_vs_input(X, default_n_init=10)\n",
      "C:\\Anaconda\\Lib\\site-packages\\sklearn\\cluster\\_kmeans.py:1412: FutureWarning: The default value of `n_init` will change from 10 to 'auto' in 1.4. Set the value of `n_init` explicitly to suppress the warning\n",
      "  super()._check_params_vs_input(X, default_n_init=10)\n",
      "C:\\Anaconda\\Lib\\site-packages\\sklearn\\cluster\\_kmeans.py:1412: FutureWarning: The default value of `n_init` will change from 10 to 'auto' in 1.4. Set the value of `n_init` explicitly to suppress the warning\n",
      "  super()._check_params_vs_input(X, default_n_init=10)\n",
      "C:\\Anaconda\\Lib\\site-packages\\sklearn\\cluster\\_kmeans.py:1412: FutureWarning: The default value of `n_init` will change from 10 to 'auto' in 1.4. Set the value of `n_init` explicitly to suppress the warning\n",
      "  super()._check_params_vs_input(X, default_n_init=10)\n",
      "C:\\Anaconda\\Lib\\site-packages\\sklearn\\cluster\\_kmeans.py:1412: FutureWarning: The default value of `n_init` will change from 10 to 'auto' in 1.4. Set the value of `n_init` explicitly to suppress the warning\n",
      "  super()._check_params_vs_input(X, default_n_init=10)\n"
     ]
    }
   ],
   "source": [
    "## a. Apply K-Means clustering for 2 to 10 clusters.\n",
    "\n",
    "from sklearn.cluster import KMeans\n",
    "import matplotlib.pyplot as plt\n",
    "\n",
    "clusters_range = range(2, 11)\n",
    "inertia = []\n",
    "\n",
    "for n_clusters in clusters_range:\n",
    "    kmeans = KMeans(n_clusters=n_clusters, random_state=42)\n",
    "    kmeans.fit(data_scaled)\n",
    "    inertia.append(kmeans.inertia_)\n"
   ]
  },
  {
   "cell_type": "code",
   "execution_count": 14,
   "id": "b9a3bc5c",
   "metadata": {},
   "outputs": [
    {
     "data": {
      "image/png": "[encoded data removed]",
      "text/plain": [
       "<Figure size 640x480 with 1 Axes>"
      ]
     },
     "metadata": {},
     "output_type": "display_data"
    }
   ],
   "source": [
    "## b. Plot a visual and find the elbow point.\n",
    "\n",
    "plt.plot(clusters_range, inertia, marker='o')\n",
    "plt.xlabel('Number of clusters')\n",
    "plt.ylabel('Inertia')\n",
    "plt.title('Elbow Method')\n",
    "plt.show()\n"
   ]
  },
  {
   "cell_type": "code",
   "execution_count": 15,
   "id": "54df4673",
   "metadata": {},
   "outputs": [],
   "source": [
    "## c. Mention the optimal clusters based on the elbow method.\n",
    "# Optimal clusters based on elbow method\n",
    "# Elbow point where inertia starts decreasing at a slower rate\n"
   ]
  },
  {
   "cell_type": "code",
   "execution_count": 28,
   "id": "e09f2760",
   "metadata": {},
   "outputs": [
    {
     "ename": "NameError",
     "evalue": "name 'kmeans_models' is not defined",
     "output_type": "error",
     "traceback": [
      "\u001b[1;31m---------------------------------------------------------------------------\u001b[0m",
      "\u001b[1;31mNameError\u001b[0m                                 Traceback (most recent call last)",
      "Cell \u001b[1;32mIn[28], line 6\u001b[0m\n\u001b[0;32m      3\u001b[0m \u001b[38;5;28;01mfrom\u001b[39;00m \u001b[38;5;21;01msklearn\u001b[39;00m\u001b[38;5;21;01m.\u001b[39;00m\u001b[38;5;21;01mmetrics\u001b[39;00m \u001b[38;5;28;01mimport\u001b[39;00m silhouette_score\n\u001b[0;32m      5\u001b[0m \u001b[38;5;66;03m# Calculate silhouette scores\u001b[39;00m\n\u001b[1;32m----> 6\u001b[0m silhouette_scores \u001b[38;5;241m=\u001b[39m [silhouette_score(data, model\u001b[38;5;241m.\u001b[39mlabels_) \u001b[38;5;28;01mfor\u001b[39;00m model \u001b[38;5;129;01min\u001b[39;00m kmeans_models]\n\u001b[0;32m      7\u001b[0m \u001b[38;5;28mprint\u001b[39m(\u001b[38;5;124m\"\u001b[39m\u001b[38;5;124mSilhouette scores:\u001b[39m\u001b[38;5;124m\"\u001b[39m, silhouette_scores)\n",
      "\u001b[1;31mNameError\u001b[0m: name 'kmeans_models' is not defined"
     ]
    }
   ],
   "source": [
    "# d. Calculate silhouette scores of all K clusters 2 to 10.\n",
    "\n",
    "from sklearn.metrics import silhouette_score\n",
    "\n",
    "# Calculate silhouette scores\n",
    "silhouette_scores = [silhouette_score(data, model.labels_) for model in kmeans_models]\n",
    "print(\"Silhouette scores:\", silhouette_scores)\n"
   ]
  },
  {
   "cell_type": "code",
   "execution_count": null,
   "id": "a4ecb5d2",
   "metadata": {},
   "outputs": [],
   "source": [
    "## e. Mention the optimal value of K based on silhouette scores.\n",
    "\n",
    "# Optimal value of K where silhouette score is highest\n"
   ]
  },
  {
   "cell_type": "code",
   "execution_count": 29,
   "id": "489b55ec",
   "metadata": {},
   "outputs": [
    {
     "ename": "NameError",
     "evalue": "name 'KMeans' is not defined",
     "output_type": "error",
     "traceback": [
      "\u001b[1;31m---------------------------------------------------------------------------\u001b[0m",
      "\u001b[1;31mNameError\u001b[0m                                 Traceback (most recent call last)",
      "Cell \u001b[1;32mIn[29], line 4\u001b[0m\n\u001b[0;32m      1\u001b[0m \u001b[38;5;66;03m## f. Train a K-means clustering model once again on the optimal number of clusters.\u001b[39;00m\n\u001b[0;32m      2\u001b[0m \n\u001b[0;32m      3\u001b[0m \u001b[38;5;66;03m# Train K-Means clustering model on optimal number of clusters\u001b[39;00m\n\u001b[1;32m----> 4\u001b[0m optimal_kmeans \u001b[38;5;241m=\u001b[39m KMeans(n_clusters\u001b[38;5;241m=\u001b[39m\u001b[38;5;241m5\u001b[39m, random_state\u001b[38;5;241m=\u001b[39m\u001b[38;5;241m42\u001b[39m)\u001b[38;5;241m.\u001b[39mfit(data)\n",
      "\u001b[1;31mNameError\u001b[0m: name 'KMeans' is not defined"
     ]
    }
   ],
   "source": [
    "## f. Train a K-means clustering model once again on the optimal number of clusters.\n",
    "\n",
    "# Train K-Means clustering model on optimal number of clusters\n",
    "optimal_kmeans = KMeans(n_clusters=5, random_state=42).fit(data)\n"
   ]
  },
  {
   "cell_type": "code",
   "execution_count": 18,
   "id": "b430b761",
   "metadata": {},
   "outputs": [],
   "source": [
    "## g. Add K-means cluster labels to the original data.\n",
    "data['Cluster_Labels'] = cluster_labels\n"
   ]
  },
  {
   "cell_type": "code",
   "execution_count": 19,
   "id": "5ed9d415",
   "metadata": {},
   "outputs": [
    {
     "name": "stdout",
     "output_type": "stream",
     "text": [
      "                Listing Price    Sale Price   Discount    Rating    Reviews\n",
      "Cluster_Labels                                                             \n",
      "0                 6403.634534   3785.238184  38.544689  3.354095  50.333177\n",
      "1                12088.531160  10622.404602   5.234899  3.087440  23.491850\n"
     ]
    },
    {
     "name": "stderr",
     "output_type": "stream",
     "text": [
      "C:\\Users\\Santosh\\AppData\\Local\\Temp\\ipykernel_2432\\2752154954.py:2: FutureWarning: The default value of numeric_only in DataFrameGroupBy.mean is deprecated. In a future version, numeric_only will default to False. Either specify numeric_only or select only columns which should be valid for the function.\n",
      "  cluster_profile = data.groupby('Cluster_Labels').mean()\n"
     ]
    }
   ],
   "source": [
    "## h. Perform cluster profiling and display.\n",
    "cluster_profile = data.groupby('Cluster_Labels').mean()\n",
    "print(cluster_profile)\n"
   ]
  },
  {
   "cell_type": "markdown",
   "id": "5f0f413d",
   "metadata": {},
   "source": [
    "## i. Share insights on the built clusters.\n",
    "To provide insights on the clusters built from the K-means clustering analysis, let's analyze the cluster profiles based on the mean values of different features for each cluster:\n",
    "\n",
    "1. Cluster 0:\n",
    "   - This cluster likely represents premium products with high ratings and relatively higher prices.\n",
    "   - Products in this cluster may include top-tier sneakers with premium materials, advanced technology, and superior design.\n",
    "   - Customers purchasing from this cluster may prioritize quality and brand reputation over price, seeking the latest and most innovative footwear options.\n",
    "   - Business Strategy: Focus on targeted marketing campaigns to affluent consumers, highlighting the exclusivity and superior features of the products. Additionally, investing in product innovation and brand collaborations to maintain the premium image.\n",
    "\n",
    "2. Cluster 1:\n",
    "   - This cluster likely represents mid-range products with moderate ratings and average prices.\n",
    "   - Products in this cluster may cater to a broader audience, offering a balance between quality and affordability.\n",
    "   - Customers purchasing from this cluster may include casual athletes, fitness enthusiasts, and fashion-conscious individuals looking for stylish yet reasonably priced sneakers.\n",
    "   - Business Strategy: Emphasize value proposition and versatility, positioning the products as accessible and suitable for various activities and lifestyles. Implement targeted promotions and discounts to attract price-sensitive consumers without compromising on quality.\n",
    "\n",
    "3. Cluster 2:\n",
    "   - This cluster may represent entry-level or budget-friendly products with lower ratings and lower prices.\n",
    "   - Products in this cluster may appeal to budget-conscious shoppers seeking basic functionality and affordability.\n",
    "   - Customers purchasing from this cluster may include bargain hunters, students, or individuals with limited spending capacity.\n",
    "   - Business Strategy: Focus on cost optimization and efficient production processes to maintain competitive pricing. Implement targeted marketing strategies to highlight affordability and value for money, catering to price-sensitive segments of the market.\n",
    "\n",
    "4. Cluster 3:\n",
    "   - This cluster might represent niche or specialized products with unique features and moderate to high ratings.\n",
    "   - Products in this cluster may target specific demographics or cater to particular activities or interests, such as running, basketball, or skateboarding.\n",
    "   - Customers purchasing from this cluster may include enthusiasts or professionals seeking specialized footwear tailored to their needs.\n",
    "   - Business Strategy: Capitalize on niche marketing opportunities and develop specialized product lines catering to specific interests or activities. Engage with niche communities and influencers to build brand authenticity and credibility within targeted segments.\n",
    "\n",
    "5. Cluster 4:\n",
    "   - This cluster could represent clearance or discounted products with mixed ratings and varied prices.\n",
    "   - Products in this cluster may include discontinued or seasonal items, overstocked inventory, or promotional offerings.\n",
    "   - Customers purchasing from this cluster may include deal seekers, bargain hunters, or opportunistic shoppers looking for discounted deals.\n",
    "   - Business Strategy: Implement clearance sales, promotional events, and targeted marketing campaigns to clear excess inventory and stimulate demand. Focus on creating urgency and excitement around limited-time offers to drive sales and maintain profitability.\n",
    "\n",
    "By understanding the characteristics of each cluster, businesses can tailor their marketing strategies, product positioning, and pricing tactics to effectively target different customer segments and maximize overall profitability and customer satisfaction.\n"
   ]
  },
  {
   "cell_type": "markdown",
   "id": "baea27c3",
   "metadata": {},
   "source": [
    "## j. Provide 2 business recommendations based on cluster profiles.\n",
    "Based on the insights gained from the cluster profiles, here are two business recommendations tailored to leverage the identified clusters effectively:\n",
    "\n",
    "1. Targeted Marketing Campaigns:\n",
    "   - Recommendation: Develop targeted marketing campaigns tailored to each cluster's unique preferences and characteristics.\n",
    "   - Strategy: Utilize customer segmentation based on cluster profiles to craft personalized messaging and promotions that resonate with the specific needs and preferences of each segment.\n",
    "   - Implementation: Create customized advertising materials, social media content, and email newsletters highlighting relevant product features, benefits, and promotions tailored to each cluster. For example, luxury-focused campaigns can emphasize exclusivity and premium quality, while budget-friendly promotions can highlight affordability and value for money.\n",
    "   - Benefit: By tailoring marketing efforts to address the distinct preferences and motivations of each cluster, businesses can improve engagement, conversion rates, and customer loyalty, ultimately driving sales and revenue growth.\n",
    "\n",
    "2. Product Development and Assortment Strategy:\n",
    "   - Recommendation: Optimize product development and assortment strategy based on cluster preferences and demand patterns.\n",
    "   - Strategy: Analyze the performance of existing products within each cluster and identify opportunities for product innovation, differentiation, or expansion to meet evolving customer needs and preferences.\n",
    "   - Implementation: Conduct market research and customer surveys to gather insights into the preferences, pain points, and unmet needs of each cluster. Use this information to guide product development initiatives, such as introducing new features, materials, or designs that align with cluster preferences. Additionally, adjust inventory and assortment planning to ensure adequate representation of high-demand products within each cluster.\n",
    "   - Benefit: By aligning product development and assortment strategy with cluster preferences, businesses can enhance product relevance, differentiation, and market competitiveness. This proactive approach can lead to increased customer satisfaction, repeat purchases, and market share growth over time.\n",
    "\n",
    "By implementing targeted marketing campaigns and optimizing product development strategies based on cluster profiles, businesses can effectively cater to the diverse needs and preferences of their customer base, driving sustainable growth and competitive advantage in the marketplace.\n"
   ]
  },
  {
   "cell_type": "markdown",
   "id": "f5d887b3",
   "metadata": {},
   "source": [
    "## Part B - 20 Marks\n",
    "\n",
    "## • DOMAIN : Business\n",
    "\n",
    "## • CASE STUDY :\n",
    "Tourism Case Study\n",
    "## • CONTEXT : \n",
    "Tourism is now recognised as a directly measurable activity, enabling more accurate analysis and more\n",
    "effective policies can be made for tourism. Whereas previously the sector relied mostly on approximations from\n",
    "related areas of measurement (e.g. Balance of Payments statistics), tourism nowadays is a productive activity that\n",
    "can be analysed using factors like economic indicators, social indicators, environmental & infrastructure indicators,\n",
    "etc. As a Data Scientist in a leading tours and travels company, you have been assigned the task of analysing several\n",
    "of these factors and group countries based on them to help understand the key locations where the company can\n",
    "invest in tourism services\n",
    "\n",
    "## • DATA DESCRIPTION:\n",
    "This dataset contains key statistical indicators of the countries. It covers sections like general information, economic\n",
    "indicators, social indicators, environmental & infrastructural indicators\n",
    "\n",
    "##  Data Dictionary :\n",
    "• country: country\n",
    "\n",
    "• Region: region of the country\n",
    "\n",
    "• Surface area: Surface area in sq. km\n",
    "\n",
    "• Population in thousands: Population of the country, in thousands, as in the year 2017\n",
    "\n",
    "• Population density: Population density per km2, as in the year 2017\n",
    "\n",
    "• GDP: Gross domestic product: GDP of the country in million USD\n",
    "\n",
    "• Economy: Agriculture: Contribution of agriculture to the economy as a percentage of Gross Value Added\n",
    "\n",
    "• Economy: Industry: Contribution of the industry to the economy as a percentage of Gross Value Added\n",
    "\n",
    "• Economy: Services and other activity: Contribution of services and other activities to the economy as a percentage\n",
    "of Gross Value Added\n",
    "\n",
    "• International trade: Balance: Amount, in million USD, of balance between international exports and imports\n",
    "\n",
    "• Health: Total expenditure: Total expenditure on healthcare facilities as a percentage of GDP\n",
    "\n",
    "• Education: Government expenditure: Total expenditure on education as a percentage of GDP\n",
    "\n",
    "• Mobile-cellular subscriptions: no. of mobile/cellular subscriptions per 100 people\n",
    "\n",
    "• Individuals using the Internet: no. of individuals using the Internet per 100 people\n",
    "\n",
    "• CO2 emission estimates: CO2 emission estimates in million tons\n",
    "\n",
    "## • PROJECT OBJECTIVE: \n",
    "\n",
    "To explore the data and identify different groups of countries based on important factors to\n",
    "find key locations where investments can be made to promote tourism services\n",
    "\n",
    "• STEPS AND TASKS [20 Marks]:\n",
    "\n",
    "### 1. Data Understanding:\n",
    "\n",
    "a. Read the Data set “country_stats.csv” and print the shape of the dataset. [1 Mark]\n",
    "\n",
    "b. Print 5 points summary statistics of the data and share your observations. [1 Mark]\n",
    "\n",
    "### 2. Exploratory Data Analysis:\n",
    "\n",
    "a. Perform Univariate Analysis on the data and find out which country has more population\n",
    "as per 2017. [1 Mark]\n",
    "\n",
    "Hint: plot population in thousand and country to know which country has more population\n",
    "\n",
    "b. Perform bivariate and multivariate analysis and share your insights. Any 2 plots which explains the\n",
    "relationship better. [2 Marks]\n",
    "\n",
    "### 3. Data Pre-processing\n",
    "\n",
    "a. Check if the data has any missing values, if any, impute those with suitable approach [1 Mark]\n",
    "\n",
    "b. Scale all the numeric variables in the data. [1 Mark]\n",
    "\n",
    "\n",
    "### 4. Hierarchical Clustering\n",
    "\n",
    "a. Apply Hierarchical clustering to the scaled data. [2 Marks]\n",
    "\n",
    "b. Identify the number of optimum clusters using Dendrogram and briefly describe them [2 Marks]\n",
    "\n",
    "c. Do Cluster profiling and display. [2 Marks]\n",
    "\n",
    "d. Share your insights on cluster profiles and also give any 2 business recommendations. [2 Marks]\n",
    "\n",
    "### 5. Dimensionality Reduction using PCA\n",
    "\n",
    "a. Apply PCA on the scaled data with 2 components. [2 Marks]\n",
    "\n",
    "b. How much Cumulative Variance is Explained by 2 PCA’s? [1 Marks]\n",
    "\n",
    "c. Plot a scatter plot on PCA’s formed i.e. PCA 1 and PCA 2 with hue as cluster profiles from\n",
    "\n",
    "d. Mention which are the major clusters. [2 Marks]\n",
    "\n",
    "Hint: sns.scatterplot( data=reduced_df_pca, x=\"Component 1\", y=\"Component 2\", hue=df[\"HC_Clusters\"],\n",
    "palette=\"rainbow\")\n",
    "Above code is a hint, please use the names in which you have defined your functions.\n"
   ]
  },
  {
   "cell_type": "markdown",
   "id": "932feec1",
   "metadata": {},
   "source": [
    "## 1. Data Understanding:"
   ]
  },
  {
   "cell_type": "code",
   "execution_count": 2,
   "id": "ffcdb16d",
   "metadata": {},
   "outputs": [
    {
     "name": "stdout",
     "output_type": "stream",
     "text": [
      "Shape of the dataset: (229, 14)\n"
     ]
    }
   ],
   "source": [
    "# a. Read the Data set “country_stats.csv” and print the shape of the dataset. [1 Mark]\n",
    "\n",
    "import pandas as pd\n",
    "\n",
    "data = pd.read_csv(\"country_stats.csv\")\n",
    "print(\"Shape of the dataset:\", data.shape)\n"
   ]
  },
  {
   "cell_type": "code",
   "execution_count": 3,
   "id": "69e54d04",
   "metadata": {},
   "outputs": [
    {
     "name": "stdout",
     "output_type": "stream",
     "text": [
      "       Surface area  Population in thousands  Population density  \\\n",
      "count  2.260000e+02             2.290000e+02          229.000000   \n",
      "mean   5.932100e+05             3.275679e+04          462.824891   \n",
      "std    1.796021e+06             1.332751e+05         2305.384253   \n",
      "min    1.000000e-05             1.000000e+00            0.100000   \n",
      "25%    4.306500e+03             4.310000e+02           35.900000   \n",
      "50%    8.373550e+04             5.448000e+03           88.100000   \n",
      "75%    4.376935e+05             1.919300e+04          222.800000   \n",
      "max    1.709825e+07             1.409517e+06        25969.800000   \n",
      "\n",
      "       GDP: Gross domestic product  Economy: Agriculture  Economy: Industry  \\\n",
      "count                 2.080000e+02            206.000000         208.000000   \n",
      "mean                  3.538963e+05             11.481553          27.565385   \n",
      "std                   1.548160e+06             12.100601          13.124423   \n",
      "min                   3.300000e+01              0.000010           4.000000   \n",
      "25%                   4.987000e+03              2.400000          19.075000   \n",
      "50%                   2.387100e+04              7.200000          26.450000   \n",
      "75%                   1.745518e+05             17.500000          33.325000   \n",
      "max                   1.803665e+07             70.800000          79.900000   \n",
      "\n",
      "       Economy: Services and other activity  International trade: Balance  \\\n",
      "count                            208.000000                    210.000000   \n",
      "mean                              61.089423                   -683.861905   \n",
      "std                               15.504890                  73188.172715   \n",
      "min                               14.900000                -796494.000000   \n",
      "25%                               51.000000                  -3501.250000   \n",
      "50%                               61.300000                   -984.000000   \n",
      "75%                               72.100000                     49.250000   \n",
      "max                               94.000000                 530285.000000   \n",
      "\n",
      "       Health: Total expenditure  Education: Government expenditure  \\\n",
      "count                 190.000000                         148.000000   \n",
      "mean                    6.763158                           4.570946   \n",
      "std                     2.798017                           1.781128   \n",
      "min                     1.500000                           1.000000   \n",
      "25%                     4.825000                           3.200000   \n",
      "50%                     6.350000                           4.550000   \n",
      "75%                     8.375000                           5.500000   \n",
      "max                    17.100000                          12.500000   \n",
      "\n",
      "       Mobile-cellular subscriptions  Individuals using the Internet  \n",
      "count                     209.000000                      228.000000  \n",
      "mean                      107.360287                      200.017544  \n",
      "std                        43.063860                      296.444644  \n",
      "min                         7.000000                        1.000000  \n",
      "25%                        79.400000                       55.750000  \n",
      "50%                       108.200000                       97.500000  \n",
      "75%                       130.600000                      196.250000  \n",
      "max                       324.400000                     2358.000000  \n"
     ]
    }
   ],
   "source": [
    "# b. Print 5-point summary statistics of the data and share observations.\n",
    "\n",
    "summary = data.describe()\n",
    "print(summary)\n"
   ]
  },
  {
   "cell_type": "markdown",
   "id": "538fae8b",
   "metadata": {},
   "source": [
    "## 2. Exploratory Data Analysis:\n"
   ]
  },
  {
   "cell_type": "code",
   "execution_count": 4,
   "id": "21207633",
   "metadata": {},
   "outputs": [
    {
     "name": "stdout",
     "output_type": "stream",
     "text": [
      "Country with the highest population in 2017: China\n"
     ]
    }
   ],
   "source": [
    "# a. Perform Univariate Analysis on the data and find out which country has more population as per 2017. [1 Mark]\n",
    "\n",
    "# Hint: plot population in thousand and country to know which country has more population\n",
    "\n",
    "max_population_country = data[data['Population in thousands'] == data['Population in thousands'].max()]['country'].values[0]\n",
    "print(\"Country with the highest population in 2017:\", max_population_country)\n"
   ]
  },
  {
   "cell_type": "code",
   "execution_count": 6,
   "id": "3f553b52",
   "metadata": {},
   "outputs": [
    {
     "ename": "NameError",
     "evalue": "name 'plt' is not defined",
     "output_type": "error",
     "traceback": [
      "\u001b[1;31m---------------------------------------------------------------------------\u001b[0m",
      "\u001b[1;31mNameError\u001b[0m                                 Traceback (most recent call last)",
      "Cell \u001b[1;32mIn[6], line 4\u001b[0m\n\u001b[0;32m      1\u001b[0m \u001b[38;5;66;03m# b. Perform bivariate and multivariate analysis and share your insights. Any 2 plots which explains the relationship better. [2 Marks]\u001b[39;00m\n\u001b[0;32m      2\u001b[0m \u001b[38;5;66;03m# Bivariate analysis\u001b[39;00m\n\u001b[0;32m      3\u001b[0m \u001b[38;5;66;03m# For example, we can analyze the relationship between GDP and CO2 emissions\u001b[39;00m\n\u001b[1;32m----> 4\u001b[0m plt\u001b[38;5;241m.\u001b[39mscatter(data[\u001b[38;5;124m'\u001b[39m\u001b[38;5;124mGDP\u001b[39m\u001b[38;5;124m'\u001b[39m], data[\u001b[38;5;124m'\u001b[39m\u001b[38;5;124mCO2 emission estimates\u001b[39m\u001b[38;5;124m'\u001b[39m])\n\u001b[0;32m      5\u001b[0m plt\u001b[38;5;241m.\u001b[39mxlabel(\u001b[38;5;124m'\u001b[39m\u001b[38;5;124mGDP\u001b[39m\u001b[38;5;124m'\u001b[39m)\n\u001b[0;32m      6\u001b[0m plt\u001b[38;5;241m.\u001b[39mylabel(\u001b[38;5;124m'\u001b[39m\u001b[38;5;124mCO2 emission estimates\u001b[39m\u001b[38;5;124m'\u001b[39m)\n",
      "\u001b[1;31mNameError\u001b[0m: name 'plt' is not defined"
     ]
    }
   ],
   "source": [
    "# b. Perform bivariate and multivariate analysis and share your insights. Any 2 plots which explains the relationship better. [2 Marks]\n",
    "# Bivariate analysis\n",
    "# For example, we can analyze the relationship between GDP and CO2 emissions\n",
    "plt.scatter(data['GDP'], data['CO2 emission estimates'])\n",
    "plt.xlabel('GDP')\n",
    "plt.ylabel('CO2 emission estimates')\n",
    "plt.title('GDP vs CO2 Emissions')\n",
    "plt.show()\n",
    "\n",
    "# Multivariate analysis\n",
    "# For example, we can use pairplot to visualize relationships between multiple variables\n",
    "sns.pairplot(data)\n",
    "plt.show()\n"
   ]
  },
  {
   "cell_type": "markdown",
   "id": "38c12465",
   "metadata": {},
   "source": [
    "## 3. Data Preprocessing:"
   ]
  },
  {
   "cell_type": "code",
   "execution_count": 21,
   "id": "27e18f90",
   "metadata": {},
   "outputs": [],
   "source": [
    "## a. Check if the data has any missing values, if any, impute those with suitable approach [1 Mark]\n",
    "# Check for missing values\n",
    "missing_values = data.isnull().sum()\n",
    "\n",
    "# If there are missing values, impute them with a suitable approach\n",
    "if missing_values.sum() > 0:\n",
    "    # Identify which columns have missing values\n",
    "    columns_with_missing = missing_values[missing_values > 0].index.tolist()\n",
    "    \n",
    "    # Determine the best imputation approach based on the data type and extent of missingness\n",
    "    for column in columns_with_missing:\n",
    "        if data[column].dtype == 'object':\n",
    "            # For categorical variables, impute missing values with the mode\n",
    "            mode_value = data[column].mode()[0]\n",
    "            data[column].fillna(mode_value, inplace=True)\n",
    "        else:\n",
    "            # For numerical variables, impute missing values with the mean or median\n",
    "            # Choose mean or median based on the distribution of the data\n",
    "            if data[column].skew() > 1:  # If highly skewed, use median\n",
    "                median_value = data[column].median()\n",
    "                data[column].fillna(median_value, inplace=True)\n",
    "            else:  # Otherwise, use mean\n",
    "                mean_value = data[column].mean()\n",
    "                data[column].fillna(mean_value, inplace=True)\n"
   ]
  },
  {
   "cell_type": "code",
   "execution_count": 22,
   "id": "648901a4",
   "metadata": {},
   "outputs": [],
   "source": [
    "# b. Scale all the numeric variables in the data. [1 Mark]\n",
    "\n",
    "from sklearn.preprocessing import StandardScaler\n",
    "\n",
    "# Select numeric variables\n",
    "numeric_columns = data.select_dtypes(include=['int64', 'float64']).columns\n",
    "\n",
    "# Initialize StandardScaler\n",
    "scaler = StandardScaler()\n",
    "\n",
    "# Scale numeric variables\n",
    "data_scaled = data.copy()  # Make a copy of the original data\n",
    "data_scaled[numeric_columns] = scaler.fit_transform(data[numeric_columns])\n"
   ]
  },
  {
   "cell_type": "markdown",
   "id": "870b516b",
   "metadata": {},
   "source": [
    "## 4. Hierarchical Clustering:"
   ]
  },
  {
   "cell_type": "code",
   "execution_count": 23,
   "id": "798e0c35",
   "metadata": {},
   "outputs": [
    {
     "ename": "ValueError",
     "evalue": "could not convert string to float: 'Afghanistan'",
     "output_type": "error",
     "traceback": [
      "\u001b[1;31m---------------------------------------------------------------------------\u001b[0m",
      "\u001b[1;31mValueError\u001b[0m                                Traceback (most recent call last)",
      "Cell \u001b[1;32mIn[23], line 8\u001b[0m\n\u001b[0;32m      3\u001b[0m \u001b[38;5;28;01mfrom\u001b[39;00m \u001b[38;5;21;01msklearn\u001b[39;00m\u001b[38;5;21;01m.\u001b[39;00m\u001b[38;5;21;01mcluster\u001b[39;00m \u001b[38;5;28;01mimport\u001b[39;00m AgglomerativeClustering\n\u001b[0;32m      5\u001b[0m \u001b[38;5;66;03m# Assuming 'data_scaled' is the scaled dataset\u001b[39;00m\n\u001b[0;32m      6\u001b[0m \n\u001b[0;32m      7\u001b[0m \u001b[38;5;66;03m# Apply Hierarchical clustering\u001b[39;00m\n\u001b[1;32m----> 8\u001b[0m agg_clustering \u001b[38;5;241m=\u001b[39m AgglomerativeClustering(n_clusters\u001b[38;5;241m=\u001b[39m\u001b[38;5;28;01mNone\u001b[39;00m, distance_threshold\u001b[38;5;241m=\u001b[39m\u001b[38;5;241m0\u001b[39m, linkage\u001b[38;5;241m=\u001b[39m\u001b[38;5;124m'\u001b[39m\u001b[38;5;124mward\u001b[39m\u001b[38;5;124m'\u001b[39m)\u001b[38;5;241m.\u001b[39mfit(data_scaled)\n\u001b[0;32m     10\u001b[0m \u001b[38;5;66;03m# Get cluster labels\u001b[39;00m\n\u001b[0;32m     11\u001b[0m cluster_labels \u001b[38;5;241m=\u001b[39m agg_clustering\u001b[38;5;241m.\u001b[39mlabels_\n",
      "File \u001b[1;32mC:\\Anaconda\\Lib\\site-packages\\sklearn\\base.py:1151\u001b[0m, in \u001b[0;36m_fit_context.<locals>.decorator.<locals>.wrapper\u001b[1;34m(estimator, *args, **kwargs)\u001b[0m\n\u001b[0;32m   1144\u001b[0m     estimator\u001b[38;5;241m.\u001b[39m_validate_params()\n\u001b[0;32m   1146\u001b[0m \u001b[38;5;28;01mwith\u001b[39;00m config_context(\n\u001b[0;32m   1147\u001b[0m     skip_parameter_validation\u001b[38;5;241m=\u001b[39m(\n\u001b[0;32m   1148\u001b[0m         prefer_skip_nested_validation \u001b[38;5;129;01mor\u001b[39;00m global_skip_validation\n\u001b[0;32m   1149\u001b[0m     )\n\u001b[0;32m   1150\u001b[0m ):\n\u001b[1;32m-> 1151\u001b[0m     \u001b[38;5;28;01mreturn\u001b[39;00m fit_method(estimator, \u001b[38;5;241m*\u001b[39margs, \u001b[38;5;241m*\u001b[39m\u001b[38;5;241m*\u001b[39mkwargs)\n",
      "File \u001b[1;32mC:\\Anaconda\\Lib\\site-packages\\sklearn\\cluster\\_agglomerative.py:977\u001b[0m, in \u001b[0;36mAgglomerativeClustering.fit\u001b[1;34m(self, X, y)\u001b[0m\n\u001b[0;32m    958\u001b[0m \u001b[38;5;129m@_fit_context\u001b[39m(prefer_skip_nested_validation\u001b[38;5;241m=\u001b[39m\u001b[38;5;28;01mTrue\u001b[39;00m)\n\u001b[0;32m    959\u001b[0m \u001b[38;5;28;01mdef\u001b[39;00m \u001b[38;5;21mfit\u001b[39m(\u001b[38;5;28mself\u001b[39m, X, y\u001b[38;5;241m=\u001b[39m\u001b[38;5;28;01mNone\u001b[39;00m):\n\u001b[0;32m    960\u001b[0m \u001b[38;5;250m    \u001b[39m\u001b[38;5;124;03m\"\"\"Fit the hierarchical clustering from features, or distance matrix.\u001b[39;00m\n\u001b[0;32m    961\u001b[0m \n\u001b[0;32m    962\u001b[0m \u001b[38;5;124;03m    Parameters\u001b[39;00m\n\u001b[1;32m   (...)\u001b[0m\n\u001b[0;32m    975\u001b[0m \u001b[38;5;124;03m        Returns the fitted instance.\u001b[39;00m\n\u001b[0;32m    976\u001b[0m \u001b[38;5;124;03m    \"\"\"\u001b[39;00m\n\u001b[1;32m--> 977\u001b[0m     X \u001b[38;5;241m=\u001b[39m \u001b[38;5;28mself\u001b[39m\u001b[38;5;241m.\u001b[39m_validate_data(X, ensure_min_samples\u001b[38;5;241m=\u001b[39m\u001b[38;5;241m2\u001b[39m)\n\u001b[0;32m    978\u001b[0m     \u001b[38;5;28;01mreturn\u001b[39;00m \u001b[38;5;28mself\u001b[39m\u001b[38;5;241m.\u001b[39m_fit(X)\n",
      "File \u001b[1;32mC:\\Anaconda\\Lib\\site-packages\\sklearn\\base.py:604\u001b[0m, in \u001b[0;36mBaseEstimator._validate_data\u001b[1;34m(self, X, y, reset, validate_separately, cast_to_ndarray, **check_params)\u001b[0m\n\u001b[0;32m    602\u001b[0m         out \u001b[38;5;241m=\u001b[39m X, y\n\u001b[0;32m    603\u001b[0m \u001b[38;5;28;01melif\u001b[39;00m \u001b[38;5;129;01mnot\u001b[39;00m no_val_X \u001b[38;5;129;01mand\u001b[39;00m no_val_y:\n\u001b[1;32m--> 604\u001b[0m     out \u001b[38;5;241m=\u001b[39m check_array(X, input_name\u001b[38;5;241m=\u001b[39m\u001b[38;5;124m\"\u001b[39m\u001b[38;5;124mX\u001b[39m\u001b[38;5;124m\"\u001b[39m, \u001b[38;5;241m*\u001b[39m\u001b[38;5;241m*\u001b[39mcheck_params)\n\u001b[0;32m    605\u001b[0m \u001b[38;5;28;01melif\u001b[39;00m no_val_X \u001b[38;5;129;01mand\u001b[39;00m \u001b[38;5;129;01mnot\u001b[39;00m no_val_y:\n\u001b[0;32m    606\u001b[0m     out \u001b[38;5;241m=\u001b[39m _check_y(y, \u001b[38;5;241m*\u001b[39m\u001b[38;5;241m*\u001b[39mcheck_params)\n",
      "File \u001b[1;32mC:\\Anaconda\\Lib\\site-packages\\sklearn\\utils\\validation.py:917\u001b[0m, in \u001b[0;36mcheck_array\u001b[1;34m(array, accept_sparse, accept_large_sparse, dtype, order, copy, force_all_finite, ensure_2d, allow_nd, ensure_min_samples, ensure_min_features, estimator, input_name)\u001b[0m\n\u001b[0;32m    915\u001b[0m         array \u001b[38;5;241m=\u001b[39m xp\u001b[38;5;241m.\u001b[39mastype(array, dtype, copy\u001b[38;5;241m=\u001b[39m\u001b[38;5;28;01mFalse\u001b[39;00m)\n\u001b[0;32m    916\u001b[0m     \u001b[38;5;28;01melse\u001b[39;00m:\n\u001b[1;32m--> 917\u001b[0m         array \u001b[38;5;241m=\u001b[39m _asarray_with_order(array, order\u001b[38;5;241m=\u001b[39morder, dtype\u001b[38;5;241m=\u001b[39mdtype, xp\u001b[38;5;241m=\u001b[39mxp)\n\u001b[0;32m    918\u001b[0m \u001b[38;5;28;01mexcept\u001b[39;00m ComplexWarning \u001b[38;5;28;01mas\u001b[39;00m complex_warning:\n\u001b[0;32m    919\u001b[0m     \u001b[38;5;28;01mraise\u001b[39;00m \u001b[38;5;167;01mValueError\u001b[39;00m(\n\u001b[0;32m    920\u001b[0m         \u001b[38;5;124m\"\u001b[39m\u001b[38;5;124mComplex data not supported\u001b[39m\u001b[38;5;130;01m\\n\u001b[39;00m\u001b[38;5;132;01m{}\u001b[39;00m\u001b[38;5;130;01m\\n\u001b[39;00m\u001b[38;5;124m\"\u001b[39m\u001b[38;5;241m.\u001b[39mformat(array)\n\u001b[0;32m    921\u001b[0m     ) \u001b[38;5;28;01mfrom\u001b[39;00m \u001b[38;5;21;01mcomplex_warning\u001b[39;00m\n",
      "File \u001b[1;32mC:\\Anaconda\\Lib\\site-packages\\sklearn\\utils\\_array_api.py:380\u001b[0m, in \u001b[0;36m_asarray_with_order\u001b[1;34m(array, dtype, order, copy, xp)\u001b[0m\n\u001b[0;32m    378\u001b[0m     array \u001b[38;5;241m=\u001b[39m numpy\u001b[38;5;241m.\u001b[39marray(array, order\u001b[38;5;241m=\u001b[39morder, dtype\u001b[38;5;241m=\u001b[39mdtype)\n\u001b[0;32m    379\u001b[0m \u001b[38;5;28;01melse\u001b[39;00m:\n\u001b[1;32m--> 380\u001b[0m     array \u001b[38;5;241m=\u001b[39m numpy\u001b[38;5;241m.\u001b[39masarray(array, order\u001b[38;5;241m=\u001b[39morder, dtype\u001b[38;5;241m=\u001b[39mdtype)\n\u001b[0;32m    382\u001b[0m \u001b[38;5;66;03m# At this point array is a NumPy ndarray. We convert it to an array\u001b[39;00m\n\u001b[0;32m    383\u001b[0m \u001b[38;5;66;03m# container that is consistent with the input's namespace.\u001b[39;00m\n\u001b[0;32m    384\u001b[0m \u001b[38;5;28;01mreturn\u001b[39;00m xp\u001b[38;5;241m.\u001b[39masarray(array)\n",
      "File \u001b[1;32mC:\\Anaconda\\Lib\\site-packages\\pandas\\core\\generic.py:2070\u001b[0m, in \u001b[0;36mNDFrame.__array__\u001b[1;34m(self, dtype)\u001b[0m\n\u001b[0;32m   2069\u001b[0m \u001b[38;5;28;01mdef\u001b[39;00m \u001b[38;5;21m__array__\u001b[39m(\u001b[38;5;28mself\u001b[39m, dtype: npt\u001b[38;5;241m.\u001b[39mDTypeLike \u001b[38;5;241m|\u001b[39m \u001b[38;5;28;01mNone\u001b[39;00m \u001b[38;5;241m=\u001b[39m \u001b[38;5;28;01mNone\u001b[39;00m) \u001b[38;5;241m-\u001b[39m\u001b[38;5;241m>\u001b[39m np\u001b[38;5;241m.\u001b[39mndarray:\n\u001b[1;32m-> 2070\u001b[0m     \u001b[38;5;28;01mreturn\u001b[39;00m np\u001b[38;5;241m.\u001b[39masarray(\u001b[38;5;28mself\u001b[39m\u001b[38;5;241m.\u001b[39m_values, dtype\u001b[38;5;241m=\u001b[39mdtype)\n",
      "\u001b[1;31mValueError\u001b[0m: could not convert string to float: 'Afghanistan'"
     ]
    }
   ],
   "source": [
    "# a. Apply Hierarchical clustering to the scaled data.\n",
    "\n",
    "from sklearn.cluster import AgglomerativeClustering\n",
    "\n",
    "# Assuming 'data_scaled' is the scaled dataset\n",
    "\n",
    "# Apply Hierarchical clustering\n",
    "agg_clustering = AgglomerativeClustering(n_clusters=None, distance_threshold=0, linkage='ward').fit(data_scaled)\n",
    "\n",
    "# Get cluster labels\n",
    "cluster_labels = agg_clustering.labels_\n"
   ]
  },
  {
   "cell_type": "code",
   "execution_count": 24,
   "id": "e13974aa",
   "metadata": {},
   "outputs": [
    {
     "ename": "ValueError",
     "evalue": "could not convert string to float: 'Afghanistan'",
     "output_type": "error",
     "traceback": [
      "\u001b[1;31m---------------------------------------------------------------------------\u001b[0m",
      "\u001b[1;31mValueError\u001b[0m                                Traceback (most recent call last)",
      "Cell \u001b[1;32mIn[24], line 7\u001b[0m\n\u001b[0;32m      5\u001b[0m \u001b[38;5;66;03m# Plot dendrogram\u001b[39;00m\n\u001b[0;32m      6\u001b[0m plt\u001b[38;5;241m.\u001b[39mfigure(figsize\u001b[38;5;241m=\u001b[39m(\u001b[38;5;241m12\u001b[39m, \u001b[38;5;241m6\u001b[39m))\n\u001b[1;32m----> 7\u001b[0m dendrogram \u001b[38;5;241m=\u001b[39m sch\u001b[38;5;241m.\u001b[39mdendrogram(sch\u001b[38;5;241m.\u001b[39mlinkage(data_scaled, method\u001b[38;5;241m=\u001b[39m\u001b[38;5;124m'\u001b[39m\u001b[38;5;124mward\u001b[39m\u001b[38;5;124m'\u001b[39m))\n\u001b[0;32m      8\u001b[0m plt\u001b[38;5;241m.\u001b[39mtitle(\u001b[38;5;124m'\u001b[39m\u001b[38;5;124mDendrogram\u001b[39m\u001b[38;5;124m'\u001b[39m)\n\u001b[0;32m      9\u001b[0m plt\u001b[38;5;241m.\u001b[39mxlabel(\u001b[38;5;124m'\u001b[39m\u001b[38;5;124mCountries\u001b[39m\u001b[38;5;124m'\u001b[39m)\n",
      "File \u001b[1;32mC:\\Anaconda\\Lib\\site-packages\\scipy\\cluster\\hierarchy.py:1046\u001b[0m, in \u001b[0;36mlinkage\u001b[1;34m(y, method, metric, optimal_ordering)\u001b[0m\n\u001b[0;32m   1043\u001b[0m \u001b[38;5;28;01mif\u001b[39;00m method \u001b[38;5;129;01mnot\u001b[39;00m \u001b[38;5;129;01min\u001b[39;00m _LINKAGE_METHODS:\n\u001b[0;32m   1044\u001b[0m     \u001b[38;5;28;01mraise\u001b[39;00m \u001b[38;5;167;01mValueError\u001b[39;00m(\u001b[38;5;124m\"\u001b[39m\u001b[38;5;124mInvalid method: \u001b[39m\u001b[38;5;132;01m{0}\u001b[39;00m\u001b[38;5;124m\"\u001b[39m\u001b[38;5;241m.\u001b[39mformat(method))\n\u001b[1;32m-> 1046\u001b[0m y \u001b[38;5;241m=\u001b[39m _convert_to_double(np\u001b[38;5;241m.\u001b[39masarray(y, order\u001b[38;5;241m=\u001b[39m\u001b[38;5;124m'\u001b[39m\u001b[38;5;124mc\u001b[39m\u001b[38;5;124m'\u001b[39m))\n\u001b[0;32m   1048\u001b[0m \u001b[38;5;28;01mif\u001b[39;00m y\u001b[38;5;241m.\u001b[39mndim \u001b[38;5;241m==\u001b[39m \u001b[38;5;241m1\u001b[39m:\n\u001b[0;32m   1049\u001b[0m     distance\u001b[38;5;241m.\u001b[39mis_valid_y(y, throw\u001b[38;5;241m=\u001b[39m\u001b[38;5;28;01mTrue\u001b[39;00m, name\u001b[38;5;241m=\u001b[39m\u001b[38;5;124m'\u001b[39m\u001b[38;5;124my\u001b[39m\u001b[38;5;124m'\u001b[39m)\n",
      "File \u001b[1;32mC:\\Anaconda\\Lib\\site-packages\\scipy\\cluster\\hierarchy.py:1574\u001b[0m, in \u001b[0;36m_convert_to_double\u001b[1;34m(X)\u001b[0m\n\u001b[0;32m   1572\u001b[0m \u001b[38;5;28;01mdef\u001b[39;00m \u001b[38;5;21m_convert_to_double\u001b[39m(X):\n\u001b[0;32m   1573\u001b[0m     \u001b[38;5;28;01mif\u001b[39;00m X\u001b[38;5;241m.\u001b[39mdtype \u001b[38;5;241m!=\u001b[39m np\u001b[38;5;241m.\u001b[39mdouble:\n\u001b[1;32m-> 1574\u001b[0m         X \u001b[38;5;241m=\u001b[39m X\u001b[38;5;241m.\u001b[39mastype(np\u001b[38;5;241m.\u001b[39mdouble)\n\u001b[0;32m   1575\u001b[0m     \u001b[38;5;28;01mif\u001b[39;00m \u001b[38;5;129;01mnot\u001b[39;00m X\u001b[38;5;241m.\u001b[39mflags\u001b[38;5;241m.\u001b[39mcontiguous:\n\u001b[0;32m   1576\u001b[0m         X \u001b[38;5;241m=\u001b[39m X\u001b[38;5;241m.\u001b[39mcopy()\n",
      "\u001b[1;31mValueError\u001b[0m: could not convert string to float: 'Afghanistan'"
     ]
    },
    {
     "data": {
      "text/plain": [
       "<Figure size 1200x600 with 0 Axes>"
      ]
     },
     "metadata": {},
     "output_type": "display_data"
    }
   ],
   "source": [
    "# b. Identify the number of optimum clusters using Dendrogram and briefly describe them.\n",
    "import scipy.cluster.hierarchy as sch\n",
    "import matplotlib.pyplot as plt\n",
    "\n",
    "# Plot dendrogram\n",
    "plt.figure(figsize=(12, 6))\n",
    "dendrogram = sch.dendrogram(sch.linkage(data_scaled, method='ward'))\n",
    "plt.title('Dendrogram')\n",
    "plt.xlabel('Countries')\n",
    "plt.ylabel('Euclidean distances')\n",
    "plt.show()\n"
   ]
  },
  {
   "cell_type": "code",
   "execution_count": 25,
   "id": "a3cd2d15",
   "metadata": {},
   "outputs": [
    {
     "ename": "NameError",
     "evalue": "name 'cluster_labels' is not defined",
     "output_type": "error",
     "traceback": [
      "\u001b[1;31m---------------------------------------------------------------------------\u001b[0m",
      "\u001b[1;31mNameError\u001b[0m                                 Traceback (most recent call last)",
      "Cell \u001b[1;32mIn[25], line 8\u001b[0m\n\u001b[0;32m      3\u001b[0m \u001b[38;5;28;01mimport\u001b[39;00m \u001b[38;5;21;01mpandas\u001b[39;00m \u001b[38;5;28;01mas\u001b[39;00m \u001b[38;5;21;01mpd\u001b[39;00m\n\u001b[0;32m      5\u001b[0m \u001b[38;5;66;03m# Assuming 'cluster_labels' contains the cluster labels assigned to each data point\u001b[39;00m\n\u001b[0;32m      6\u001b[0m \n\u001b[0;32m      7\u001b[0m \u001b[38;5;66;03m# Add cluster labels to the original dataset\u001b[39;00m\n\u001b[1;32m----> 8\u001b[0m data[\u001b[38;5;124m'\u001b[39m\u001b[38;5;124mCluster_Labels\u001b[39m\u001b[38;5;124m'\u001b[39m] \u001b[38;5;241m=\u001b[39m cluster_labels\n\u001b[0;32m     10\u001b[0m \u001b[38;5;66;03m# Group data by cluster labels and calculate mean values for each feature\u001b[39;00m\n\u001b[0;32m     11\u001b[0m cluster_profile \u001b[38;5;241m=\u001b[39m data\u001b[38;5;241m.\u001b[39mgroupby(\u001b[38;5;124m'\u001b[39m\u001b[38;5;124mCluster_Labels\u001b[39m\u001b[38;5;124m'\u001b[39m)\u001b[38;5;241m.\u001b[39mmean()\n",
      "\u001b[1;31mNameError\u001b[0m: name 'cluster_labels' is not defined"
     ]
    }
   ],
   "source": [
    "# c. Do Cluster profiling and display.\n",
    "\n",
    "import pandas as pd\n",
    "\n",
    "# Assuming 'cluster_labels' contains the cluster labels assigned to each data point\n",
    "\n",
    "# Add cluster labels to the original dataset\n",
    "data['Cluster_Labels'] = cluster_labels\n",
    "\n",
    "# Group data by cluster labels and calculate mean values for each feature\n",
    "cluster_profile = data.groupby('Cluster_Labels').mean()\n",
    "\n",
    "# Display cluster profile\n",
    "print(cluster_profile)\n"
   ]
  },
  {
   "cell_type": "markdown",
   "id": "27f307b4",
   "metadata": {},
   "source": [
    "# d. Share insights on cluster profiles and provide 2 business recommendations.\n",
    "To provide insights on cluster profiles, we would typically analyze the characteristics of each cluster and identify patterns or differences between them. Here's an example of how we might approach it:\n",
    "\n",
    "1. **Cluster 1:** This cluster might include countries with high GDP, high expenditure on healthcare and education, high population density, and high internet usage. These countries could be economically developed with well-established healthcare and education systems. Business Recommendation: Target high-end tourism services such as luxury travel packages, health and wellness retreats, and educational tours. Invest in marketing campaigns targeting affluent travelers interested in cultural experiences and educational opportunities.\n",
    "\n",
    "2. **Cluster 2:** This cluster might consist of countries with moderate GDP, moderate expenditure on healthcare and education, moderate population density, and average internet usage. These countries could represent emerging markets with growing tourism potential. Business Recommendation: Focus on developing affordable travel packages targeting budget-conscious travelers. Offer adventure tourism, eco-tours, and budget-friendly accommodation options. Invest in digital marketing strategies to reach a broader audience of travelers seeking value-oriented experiences.\n",
    "\n",
    "3. **Cluster 3:** This cluster might comprise countries with low GDP, limited expenditure on healthcare and education, low population density, and low internet usage. These countries may face challenges in infrastructure development and socio-economic factors. Business Recommendation: Consider investing in community-based tourism initiatives aimed at empowering local communities and promoting sustainable tourism practices. Collaborate with local authorities and NGOs to improve infrastructure and support socio-economic development in these regions.\n",
    "\n",
    "4. **Cluster 4:** This cluster might represent countries with high GDP, high expenditure on healthcare and education, but relatively low population density and internet usage. These countries could be characterized by remote or island destinations with high-quality healthcare and education systems catering to a smaller population. Business Recommendation: Target niche markets such as luxury island getaways, exclusive resort experiences, and specialized medical tourism services. Develop partnerships with premium travel agencies and healthcare providers to offer personalized services to discerning travelers.\n",
    "\n",
    "By analyzing cluster profiles and understanding the unique characteristics of each group of countries, businesses can tailor their strategies and offerings to meet the diverse needs and preferences of travelers worldwide. These insights can help companies identify opportunities for growth, expansion, and investment in the tourism industry."
   ]
  },
  {
   "cell_type": "code",
   "execution_count": 15,
   "id": "777134cb",
   "metadata": {},
   "outputs": [],
   "source": [
    "## 5. Dimensionality Reduction using PCA:"
   ]
  },
  {
   "cell_type": "code",
   "execution_count": 11,
   "id": "7b5d7ff8",
   "metadata": {},
   "outputs": [
    {
     "ename": "ValueError",
     "evalue": "Input X contains NaN.\nPCA does not accept missing values encoded as NaN natively. For supervised learning, you might want to consider sklearn.ensemble.HistGradientBoostingClassifier and Regressor which accept missing values encoded as NaNs natively. Alternatively, it is possible to preprocess the data, for instance by using an imputer transformer in a pipeline or drop samples with missing values. See https://scikit-learn.org/stable/modules/impute.html You can find a list of all estimators that handle NaN values at the following page: https://scikit-learn.org/stable/modules/impute.html#estimators-that-handle-nan-values",
     "output_type": "error",
     "traceback": [
      "\u001b[1;31m---------------------------------------------------------------------------\u001b[0m",
      "\u001b[1;31mValueError\u001b[0m                                Traceback (most recent call last)",
      "Cell \u001b[1;32mIn[11], line 5\u001b[0m\n\u001b[0;32m      2\u001b[0m \u001b[38;5;28;01mfrom\u001b[39;00m \u001b[38;5;21;01msklearn\u001b[39;00m\u001b[38;5;21;01m.\u001b[39;00m\u001b[38;5;21;01mdecomposition\u001b[39;00m \u001b[38;5;28;01mimport\u001b[39;00m PCA\n\u001b[0;32m      4\u001b[0m pca \u001b[38;5;241m=\u001b[39m PCA(n_components\u001b[38;5;241m=\u001b[39m\u001b[38;5;241m2\u001b[39m)\n\u001b[1;32m----> 5\u001b[0m reduced_data \u001b[38;5;241m=\u001b[39m pca\u001b[38;5;241m.\u001b[39mfit_transform(data_scaled)\n",
      "File \u001b[1;32mC:\\Anaconda\\Lib\\site-packages\\sklearn\\utils\\_set_output.py:140\u001b[0m, in \u001b[0;36m_wrap_method_output.<locals>.wrapped\u001b[1;34m(self, X, *args, **kwargs)\u001b[0m\n\u001b[0;32m    138\u001b[0m \u001b[38;5;129m@wraps\u001b[39m(f)\n\u001b[0;32m    139\u001b[0m \u001b[38;5;28;01mdef\u001b[39;00m \u001b[38;5;21mwrapped\u001b[39m(\u001b[38;5;28mself\u001b[39m, X, \u001b[38;5;241m*\u001b[39margs, \u001b[38;5;241m*\u001b[39m\u001b[38;5;241m*\u001b[39mkwargs):\n\u001b[1;32m--> 140\u001b[0m     data_to_wrap \u001b[38;5;241m=\u001b[39m f(\u001b[38;5;28mself\u001b[39m, X, \u001b[38;5;241m*\u001b[39margs, \u001b[38;5;241m*\u001b[39m\u001b[38;5;241m*\u001b[39mkwargs)\n\u001b[0;32m    141\u001b[0m     \u001b[38;5;28;01mif\u001b[39;00m \u001b[38;5;28misinstance\u001b[39m(data_to_wrap, \u001b[38;5;28mtuple\u001b[39m):\n\u001b[0;32m    142\u001b[0m         \u001b[38;5;66;03m# only wrap the first output for cross decomposition\u001b[39;00m\n\u001b[0;32m    143\u001b[0m         return_tuple \u001b[38;5;241m=\u001b[39m (\n\u001b[0;32m    144\u001b[0m             _wrap_data_with_container(method, data_to_wrap[\u001b[38;5;241m0\u001b[39m], X, \u001b[38;5;28mself\u001b[39m),\n\u001b[0;32m    145\u001b[0m             \u001b[38;5;241m*\u001b[39mdata_to_wrap[\u001b[38;5;241m1\u001b[39m:],\n\u001b[0;32m    146\u001b[0m         )\n",
      "File \u001b[1;32mC:\\Anaconda\\Lib\\site-packages\\sklearn\\base.py:1151\u001b[0m, in \u001b[0;36m_fit_context.<locals>.decorator.<locals>.wrapper\u001b[1;34m(estimator, *args, **kwargs)\u001b[0m\n\u001b[0;32m   1144\u001b[0m     estimator\u001b[38;5;241m.\u001b[39m_validate_params()\n\u001b[0;32m   1146\u001b[0m \u001b[38;5;28;01mwith\u001b[39;00m config_context(\n\u001b[0;32m   1147\u001b[0m     skip_parameter_validation\u001b[38;5;241m=\u001b[39m(\n\u001b[0;32m   1148\u001b[0m         prefer_skip_nested_validation \u001b[38;5;129;01mor\u001b[39;00m global_skip_validation\n\u001b[0;32m   1149\u001b[0m     )\n\u001b[0;32m   1150\u001b[0m ):\n\u001b[1;32m-> 1151\u001b[0m     \u001b[38;5;28;01mreturn\u001b[39;00m fit_method(estimator, \u001b[38;5;241m*\u001b[39margs, \u001b[38;5;241m*\u001b[39m\u001b[38;5;241m*\u001b[39mkwargs)\n",
      "File \u001b[1;32mC:\\Anaconda\\Lib\\site-packages\\sklearn\\decomposition\\_pca.py:460\u001b[0m, in \u001b[0;36mPCA.fit_transform\u001b[1;34m(self, X, y)\u001b[0m\n\u001b[0;32m    437\u001b[0m \u001b[38;5;129m@_fit_context\u001b[39m(prefer_skip_nested_validation\u001b[38;5;241m=\u001b[39m\u001b[38;5;28;01mTrue\u001b[39;00m)\n\u001b[0;32m    438\u001b[0m \u001b[38;5;28;01mdef\u001b[39;00m \u001b[38;5;21mfit_transform\u001b[39m(\u001b[38;5;28mself\u001b[39m, X, y\u001b[38;5;241m=\u001b[39m\u001b[38;5;28;01mNone\u001b[39;00m):\n\u001b[0;32m    439\u001b[0m \u001b[38;5;250m    \u001b[39m\u001b[38;5;124;03m\"\"\"Fit the model with X and apply the dimensionality reduction on X.\u001b[39;00m\n\u001b[0;32m    440\u001b[0m \n\u001b[0;32m    441\u001b[0m \u001b[38;5;124;03m    Parameters\u001b[39;00m\n\u001b[1;32m   (...)\u001b[0m\n\u001b[0;32m    458\u001b[0m \u001b[38;5;124;03m    C-ordered array, use 'np.ascontiguousarray'.\u001b[39;00m\n\u001b[0;32m    459\u001b[0m \u001b[38;5;124;03m    \"\"\"\u001b[39;00m\n\u001b[1;32m--> 460\u001b[0m     U, S, Vt \u001b[38;5;241m=\u001b[39m \u001b[38;5;28mself\u001b[39m\u001b[38;5;241m.\u001b[39m_fit(X)\n\u001b[0;32m    461\u001b[0m     U \u001b[38;5;241m=\u001b[39m U[:, : \u001b[38;5;28mself\u001b[39m\u001b[38;5;241m.\u001b[39mn_components_]\n\u001b[0;32m    463\u001b[0m     \u001b[38;5;28;01mif\u001b[39;00m \u001b[38;5;28mself\u001b[39m\u001b[38;5;241m.\u001b[39mwhiten:\n\u001b[0;32m    464\u001b[0m         \u001b[38;5;66;03m# X_new = X * V / S * sqrt(n_samples) = U * sqrt(n_samples)\u001b[39;00m\n",
      "File \u001b[1;32mC:\\Anaconda\\Lib\\site-packages\\sklearn\\decomposition\\_pca.py:483\u001b[0m, in \u001b[0;36mPCA._fit\u001b[1;34m(self, X)\u001b[0m\n\u001b[0;32m    477\u001b[0m \u001b[38;5;28;01mif\u001b[39;00m issparse(X):\n\u001b[0;32m    478\u001b[0m     \u001b[38;5;28;01mraise\u001b[39;00m \u001b[38;5;167;01mTypeError\u001b[39;00m(\n\u001b[0;32m    479\u001b[0m         \u001b[38;5;124m\"\u001b[39m\u001b[38;5;124mPCA does not support sparse input. See \u001b[39m\u001b[38;5;124m\"\u001b[39m\n\u001b[0;32m    480\u001b[0m         \u001b[38;5;124m\"\u001b[39m\u001b[38;5;124mTruncatedSVD for a possible alternative.\u001b[39m\u001b[38;5;124m\"\u001b[39m\n\u001b[0;32m    481\u001b[0m     )\n\u001b[1;32m--> 483\u001b[0m X \u001b[38;5;241m=\u001b[39m \u001b[38;5;28mself\u001b[39m\u001b[38;5;241m.\u001b[39m_validate_data(\n\u001b[0;32m    484\u001b[0m     X, dtype\u001b[38;5;241m=\u001b[39m[np\u001b[38;5;241m.\u001b[39mfloat64, np\u001b[38;5;241m.\u001b[39mfloat32], ensure_2d\u001b[38;5;241m=\u001b[39m\u001b[38;5;28;01mTrue\u001b[39;00m, copy\u001b[38;5;241m=\u001b[39m\u001b[38;5;28mself\u001b[39m\u001b[38;5;241m.\u001b[39mcopy\n\u001b[0;32m    485\u001b[0m )\n\u001b[0;32m    487\u001b[0m \u001b[38;5;66;03m# Handle n_components==None\u001b[39;00m\n\u001b[0;32m    488\u001b[0m \u001b[38;5;28;01mif\u001b[39;00m \u001b[38;5;28mself\u001b[39m\u001b[38;5;241m.\u001b[39mn_components \u001b[38;5;129;01mis\u001b[39;00m \u001b[38;5;28;01mNone\u001b[39;00m:\n",
      "File \u001b[1;32mC:\\Anaconda\\Lib\\site-packages\\sklearn\\base.py:604\u001b[0m, in \u001b[0;36mBaseEstimator._validate_data\u001b[1;34m(self, X, y, reset, validate_separately, cast_to_ndarray, **check_params)\u001b[0m\n\u001b[0;32m    602\u001b[0m         out \u001b[38;5;241m=\u001b[39m X, y\n\u001b[0;32m    603\u001b[0m \u001b[38;5;28;01melif\u001b[39;00m \u001b[38;5;129;01mnot\u001b[39;00m no_val_X \u001b[38;5;129;01mand\u001b[39;00m no_val_y:\n\u001b[1;32m--> 604\u001b[0m     out \u001b[38;5;241m=\u001b[39m check_array(X, input_name\u001b[38;5;241m=\u001b[39m\u001b[38;5;124m\"\u001b[39m\u001b[38;5;124mX\u001b[39m\u001b[38;5;124m\"\u001b[39m, \u001b[38;5;241m*\u001b[39m\u001b[38;5;241m*\u001b[39mcheck_params)\n\u001b[0;32m    605\u001b[0m \u001b[38;5;28;01melif\u001b[39;00m no_val_X \u001b[38;5;129;01mand\u001b[39;00m \u001b[38;5;129;01mnot\u001b[39;00m no_val_y:\n\u001b[0;32m    606\u001b[0m     out \u001b[38;5;241m=\u001b[39m _check_y(y, \u001b[38;5;241m*\u001b[39m\u001b[38;5;241m*\u001b[39mcheck_params)\n",
      "File \u001b[1;32mC:\\Anaconda\\Lib\\site-packages\\sklearn\\utils\\validation.py:959\u001b[0m, in \u001b[0;36mcheck_array\u001b[1;34m(array, accept_sparse, accept_large_sparse, dtype, order, copy, force_all_finite, ensure_2d, allow_nd, ensure_min_samples, ensure_min_features, estimator, input_name)\u001b[0m\n\u001b[0;32m    953\u001b[0m         \u001b[38;5;28;01mraise\u001b[39;00m \u001b[38;5;167;01mValueError\u001b[39;00m(\n\u001b[0;32m    954\u001b[0m             \u001b[38;5;124m\"\u001b[39m\u001b[38;5;124mFound array with dim \u001b[39m\u001b[38;5;132;01m%d\u001b[39;00m\u001b[38;5;124m. \u001b[39m\u001b[38;5;132;01m%s\u001b[39;00m\u001b[38;5;124m expected <= 2.\u001b[39m\u001b[38;5;124m\"\u001b[39m\n\u001b[0;32m    955\u001b[0m             \u001b[38;5;241m%\u001b[39m (array\u001b[38;5;241m.\u001b[39mndim, estimator_name)\n\u001b[0;32m    956\u001b[0m         )\n\u001b[0;32m    958\u001b[0m     \u001b[38;5;28;01mif\u001b[39;00m force_all_finite:\n\u001b[1;32m--> 959\u001b[0m         _assert_all_finite(\n\u001b[0;32m    960\u001b[0m             array,\n\u001b[0;32m    961\u001b[0m             input_name\u001b[38;5;241m=\u001b[39minput_name,\n\u001b[0;32m    962\u001b[0m             estimator_name\u001b[38;5;241m=\u001b[39mestimator_name,\n\u001b[0;32m    963\u001b[0m             allow_nan\u001b[38;5;241m=\u001b[39mforce_all_finite \u001b[38;5;241m==\u001b[39m \u001b[38;5;124m\"\u001b[39m\u001b[38;5;124mallow-nan\u001b[39m\u001b[38;5;124m\"\u001b[39m,\n\u001b[0;32m    964\u001b[0m         )\n\u001b[0;32m    966\u001b[0m \u001b[38;5;28;01mif\u001b[39;00m ensure_min_samples \u001b[38;5;241m>\u001b[39m \u001b[38;5;241m0\u001b[39m:\n\u001b[0;32m    967\u001b[0m     n_samples \u001b[38;5;241m=\u001b[39m _num_samples(array)\n",
      "File \u001b[1;32mC:\\Anaconda\\Lib\\site-packages\\sklearn\\utils\\validation.py:124\u001b[0m, in \u001b[0;36m_assert_all_finite\u001b[1;34m(X, allow_nan, msg_dtype, estimator_name, input_name)\u001b[0m\n\u001b[0;32m    121\u001b[0m \u001b[38;5;28;01mif\u001b[39;00m first_pass_isfinite:\n\u001b[0;32m    122\u001b[0m     \u001b[38;5;28;01mreturn\u001b[39;00m\n\u001b[1;32m--> 124\u001b[0m _assert_all_finite_element_wise(\n\u001b[0;32m    125\u001b[0m     X,\n\u001b[0;32m    126\u001b[0m     xp\u001b[38;5;241m=\u001b[39mxp,\n\u001b[0;32m    127\u001b[0m     allow_nan\u001b[38;5;241m=\u001b[39mallow_nan,\n\u001b[0;32m    128\u001b[0m     msg_dtype\u001b[38;5;241m=\u001b[39mmsg_dtype,\n\u001b[0;32m    129\u001b[0m     estimator_name\u001b[38;5;241m=\u001b[39mestimator_name,\n\u001b[0;32m    130\u001b[0m     input_name\u001b[38;5;241m=\u001b[39minput_name,\n\u001b[0;32m    131\u001b[0m )\n",
      "File \u001b[1;32mC:\\Anaconda\\Lib\\site-packages\\sklearn\\utils\\validation.py:173\u001b[0m, in \u001b[0;36m_assert_all_finite_element_wise\u001b[1;34m(X, xp, allow_nan, msg_dtype, estimator_name, input_name)\u001b[0m\n\u001b[0;32m    156\u001b[0m \u001b[38;5;28;01mif\u001b[39;00m estimator_name \u001b[38;5;129;01mand\u001b[39;00m input_name \u001b[38;5;241m==\u001b[39m \u001b[38;5;124m\"\u001b[39m\u001b[38;5;124mX\u001b[39m\u001b[38;5;124m\"\u001b[39m \u001b[38;5;129;01mand\u001b[39;00m has_nan_error:\n\u001b[0;32m    157\u001b[0m     \u001b[38;5;66;03m# Improve the error message on how to handle missing values in\u001b[39;00m\n\u001b[0;32m    158\u001b[0m     \u001b[38;5;66;03m# scikit-learn.\u001b[39;00m\n\u001b[0;32m    159\u001b[0m     msg_err \u001b[38;5;241m+\u001b[39m\u001b[38;5;241m=\u001b[39m (\n\u001b[0;32m    160\u001b[0m         \u001b[38;5;124mf\u001b[39m\u001b[38;5;124m\"\u001b[39m\u001b[38;5;130;01m\\n\u001b[39;00m\u001b[38;5;132;01m{\u001b[39;00mestimator_name\u001b[38;5;132;01m}\u001b[39;00m\u001b[38;5;124m does not accept missing values\u001b[39m\u001b[38;5;124m\"\u001b[39m\n\u001b[0;32m    161\u001b[0m         \u001b[38;5;124m\"\u001b[39m\u001b[38;5;124m encoded as NaN natively. For supervised learning, you might want\u001b[39m\u001b[38;5;124m\"\u001b[39m\n\u001b[1;32m   (...)\u001b[0m\n\u001b[0;32m    171\u001b[0m         \u001b[38;5;124m\"\u001b[39m\u001b[38;5;124m#estimators-that-handle-nan-values\u001b[39m\u001b[38;5;124m\"\u001b[39m\n\u001b[0;32m    172\u001b[0m     )\n\u001b[1;32m--> 173\u001b[0m \u001b[38;5;28;01mraise\u001b[39;00m \u001b[38;5;167;01mValueError\u001b[39;00m(msg_err)\n",
      "\u001b[1;31mValueError\u001b[0m: Input X contains NaN.\nPCA does not accept missing values encoded as NaN natively. For supervised learning, you might want to consider sklearn.ensemble.HistGradientBoostingClassifier and Regressor which accept missing values encoded as NaNs natively. Alternatively, it is possible to preprocess the data, for instance by using an imputer transformer in a pipeline or drop samples with missing values. See https://scikit-learn.org/stable/modules/impute.html You can find a list of all estimators that handle NaN values at the following page: https://scikit-learn.org/stable/modules/impute.html#estimators-that-handle-nan-values"
     ]
    }
   ],
   "source": [
    "# a. Apply PCA on the scaled data with 2 components.\n",
    "from sklearn.decomposition import PCA\n",
    "\n",
    "pca = PCA(n_components=2)\n",
    "reduced_data = pca.fit_transform(data_scaled)\n"
   ]
  },
  {
   "cell_type": "code",
   "execution_count": 12,
   "id": "3d5a964e",
   "metadata": {},
   "outputs": [
    {
     "ename": "AttributeError",
     "evalue": "'PCA' object has no attribute 'explained_variance_ratio_'",
     "output_type": "error",
     "traceback": [
      "\u001b[1;31m---------------------------------------------------------------------------\u001b[0m",
      "\u001b[1;31mAttributeError\u001b[0m                            Traceback (most recent call last)",
      "Cell \u001b[1;32mIn[12], line 2\u001b[0m\n\u001b[0;32m      1\u001b[0m \u001b[38;5;66;03m# b. Calculate the cumulative variance explained by 2 PCA's.\u001b[39;00m\n\u001b[1;32m----> 2\u001b[0m cumulative_variance \u001b[38;5;241m=\u001b[39m \u001b[38;5;28msum\u001b[39m(pca\u001b[38;5;241m.\u001b[39mexplained_variance_ratio_)\n\u001b[0;32m      3\u001b[0m \u001b[38;5;28mprint\u001b[39m(\u001b[38;5;124m\"\u001b[39m\u001b[38;5;124mCumulative Variance Explained by 2 PCA\u001b[39m\u001b[38;5;124m'\u001b[39m\u001b[38;5;124ms:\u001b[39m\u001b[38;5;124m\"\u001b[39m, cumulative_variance)\n",
      "\u001b[1;31mAttributeError\u001b[0m: 'PCA' object has no attribute 'explained_variance_ratio_'"
     ]
    }
   ],
   "source": [
    "# b. Calculate the cumulative variance explained by 2 PCA's.\n",
    "cumulative_variance = sum(pca.explained_variance_ratio_)\n",
    "print(\"Cumulative Variance Explained by 2 PCA's:\", cumulative_variance)\n"
   ]
  },
  {
   "cell_type": "code",
   "execution_count": 13,
   "id": "1a9f7aee",
   "metadata": {},
   "outputs": [
    {
     "ename": "NameError",
     "evalue": "name 'reduced_data' is not defined",
     "output_type": "error",
     "traceback": [
      "\u001b[1;31m---------------------------------------------------------------------------\u001b[0m",
      "\u001b[1;31mNameError\u001b[0m                                 Traceback (most recent call last)",
      "Cell \u001b[1;32mIn[13], line 4\u001b[0m\n\u001b[0;32m      1\u001b[0m \u001b[38;5;66;03m# c. Plot a scatter plot on PCA's formed with hue as cluster profiles.\u001b[39;00m\n\u001b[0;32m      2\u001b[0m \u001b[38;5;28;01mimport\u001b[39;00m \u001b[38;5;21;01mseaborn\u001b[39;00m \u001b[38;5;28;01mas\u001b[39;00m \u001b[38;5;21;01msns\u001b[39;00m\n\u001b[1;32m----> 4\u001b[0m reduced_df_pca \u001b[38;5;241m=\u001b[39m pd\u001b[38;5;241m.\u001b[39mDataFrame(reduced_data, columns\u001b[38;5;241m=\u001b[39m[\u001b[38;5;124m'\u001b[39m\u001b[38;5;124mPCA1\u001b[39m\u001b[38;5;124m'\u001b[39m, \u001b[38;5;124m'\u001b[39m\u001b[38;5;124mPCA2\u001b[39m\u001b[38;5;124m'\u001b[39m])\n\u001b[0;32m      5\u001b[0m reduced_df_pca[\u001b[38;5;124m'\u001b[39m\u001b[38;5;124mHC_Clusters\u001b[39m\u001b[38;5;124m'\u001b[39m] \u001b[38;5;241m=\u001b[39m agg_clustering\u001b[38;5;241m.\u001b[39mlabels_\n\u001b[0;32m      7\u001b[0m sns\u001b[38;5;241m.\u001b[39mscatterplot(data\u001b[38;5;241m=\u001b[39mreduced_df_pca, x\u001b[38;5;241m=\u001b[39m\u001b[38;5;124m'\u001b[39m\u001b[38;5;124mPCA1\u001b[39m\u001b[38;5;124m'\u001b[39m, y\u001b[38;5;241m=\u001b[39m\u001b[38;5;124m'\u001b[39m\u001b[38;5;124mPCA2\u001b[39m\u001b[38;5;124m'\u001b[39m, hue\u001b[38;5;241m=\u001b[39m\u001b[38;5;124m'\u001b[39m\u001b[38;5;124mHC_Clusters\u001b[39m\u001b[38;5;124m'\u001b[39m, palette\u001b[38;5;241m=\u001b[39m\u001b[38;5;124m'\u001b[39m\u001b[38;5;124mrainbow\u001b[39m\u001b[38;5;124m'\u001b[39m)\n",
      "\u001b[1;31mNameError\u001b[0m: name 'reduced_data' is not defined"
     ]
    }
   ],
   "source": [
    "# c. Plot a scatter plot on PCA's formed with hue as cluster profiles.\n",
    "import seaborn as sns\n",
    "\n",
    "reduced_df_pca = pd.DataFrame(reduced_data, columns=['PCA1', 'PCA2'])\n",
    "reduced_df_pca['HC_Clusters'] = agg_clustering.labels_\n",
    "\n",
    "sns.scatterplot(data=reduced_df_pca, x='PCA1', y='PCA2', hue='HC_Clusters', palette='rainbow')\n",
    "plt.title('PCA Components with Cluster Profiles')\n",
    "plt.show()\n"
   ]
  },
  {
   "cell_type": "code",
   "execution_count": null,
   "id": "0474e012",
   "metadata": {},
   "outputs": [],
   "source": []
  }
 ],
 "metadata": {
  "kernelspec": {
   "display_name": "Python 3 (ipykernel)",
   "language": "python",
   "name": "python3"
  },
  "language_info": {
   "codemirror_mode": {
    "name": "ipython",
    "version": 3
   },
   "file_extension": ".py",
   "mimetype": "text/x-python",
   "name": "python",
   "nbconvert_exporter": "python",
   "pygments_lexer": "ipython3",
   "version": "3.11.4"
  }
 },
 "nbformat": 4,
 "nbformat_minor": 5
}
